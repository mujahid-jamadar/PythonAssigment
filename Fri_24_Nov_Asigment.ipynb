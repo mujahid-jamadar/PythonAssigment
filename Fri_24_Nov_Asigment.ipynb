{
 "cells": [
  {
   "cell_type": "code",
   "execution_count": 1,
   "id": "ede20181",
   "metadata": {},
   "outputs": [],
   "source": [
    "#Assigment Hiearachical inheritance and hybrid inheritance"
   ]
  },
  {
   "cell_type": "code",
   "execution_count": 5,
   "id": "5adc532c",
   "metadata": {},
   "outputs": [
    {
     "name": "stdout",
     "output_type": "stream",
     "text": [
      "Parent Method\n",
      "Child method\n",
      "\n",
      "Parent Method\n",
      "sub child method\n"
     ]
    }
   ],
   "source": [
    "#Hierarchical Inheritance Example:\n",
    "class p:\n",
    "    \n",
    "    def m1(self):\n",
    "        print('Parent Method')\n",
    "\n",
    "class C(p):\n",
    "    def m2(self):\n",
    "        print('Child method')\n",
    "\n",
    "class CC(p):\n",
    "    def m3(self):\n",
    "        print('sub child method')\n",
    "\n",
    "\n",
    "x=C()\n",
    "x.m1()\n",
    "x.m2()\n",
    "\n",
    "print()\n",
    "y=CC()\n",
    "y.m1()\n",
    "y.m3()\n",
    "  \n"
   ]
  },
  {
   "cell_type": "code",
   "execution_count": 9,
   "id": "4ce102a9",
   "metadata": {},
   "outputs": [
    {
     "name": "stdout",
     "output_type": "stream",
     "text": [
      "The XYZ vehicle is starting.\n",
      "Charging the electric engine.\n",
      "Refueling the gas engine.\n",
      "The XYZ hybrid car is driving.\n",
      "The XYZ vehicle has stopped.\n"
     ]
    }
   ],
   "source": [
    "#hybrid inheritance\n",
    "class Vehicle:\n",
    "    def __init__(self, brand):\n",
    "        self.brand = brand\n",
    "\n",
    "    def start(self):\n",
    "        return f\"The {self.brand} vehicle is starting.\"\n",
    "\n",
    "    def stop(self):\n",
    "        return f\"The {self.brand} vehicle has stopped.\"\n",
    "\n",
    "class EEngine:\n",
    "    def charge(self):\n",
    "        return \"Charging the electric engine.\"\n",
    "\n",
    "class GEngine:\n",
    "    def refuel(self):\n",
    "        return \"Refueling the gas engine.\"\n",
    "\n",
    "class HyCar(Vehicle, GEngine, EEngine):\n",
    "    def __init__(self, brand):\n",
    "        super().__init__(brand)\n",
    "\n",
    "    def drive(self):\n",
    "        return f\"The {self.brand} hybrid car is driving.\"\n",
    "\n",
    "\n",
    "hybrid_car = HyCar(\"XYZ\")\n",
    "\n",
    "# Test\n",
    "print(hybrid_car.start())   \n",
    "print(hybrid_car.charge())  \n",
    "print(hybrid_car.refuel())   \n",
    "print(hybrid_car.drive())    \n",
    "print(hybrid_car.stop())     \n"
   ]
  },
  {
   "cell_type": "code",
   "execution_count": null,
   "id": "1c72bcd3",
   "metadata": {},
   "outputs": [],
   "source": []
  }
 ],
 "metadata": {
  "kernelspec": {
   "display_name": "Python 3 (ipykernel)",
   "language": "python",
   "name": "python3"
  },
  "language_info": {
   "codemirror_mode": {
    "name": "ipython",
    "version": 3
   },
   "file_extension": ".py",
   "mimetype": "text/x-python",
   "name": "python",
   "nbconvert_exporter": "python",
   "pygments_lexer": "ipython3",
   "version": "3.9.13"
  }
 },
 "nbformat": 4,
 "nbformat_minor": 5
}
