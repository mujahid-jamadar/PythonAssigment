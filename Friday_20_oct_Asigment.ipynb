{
 "cells": [
  {
   "cell_type": "code",
   "execution_count": null,
   "id": "35ff8a62",
   "metadata": {},
   "outputs": [],
   "source": [
    "# 1 to 100 even number reverse\n",
    "# 1 to 100 odd number reverse\n",
    "# -10 to +10\n",
    "#-1 0 1"
   ]
  },
  {
   "cell_type": "code",
   "execution_count": 8,
   "id": "08fdec65",
   "metadata": {},
   "outputs": [
    {
     "data": {
      "text/plain": [
       "[100,\n",
       " 98,\n",
       " 96,\n",
       " 94,\n",
       " 92,\n",
       " 90,\n",
       " 88,\n",
       " 86,\n",
       " 84,\n",
       " 82,\n",
       " 80,\n",
       " 78,\n",
       " 76,\n",
       " 74,\n",
       " 72,\n",
       " 70,\n",
       " 68,\n",
       " 66,\n",
       " 64,\n",
       " 62,\n",
       " 60,\n",
       " 58,\n",
       " 56,\n",
       " 54,\n",
       " 52,\n",
       " 50,\n",
       " 48,\n",
       " 46,\n",
       " 44,\n",
       " 42,\n",
       " 40,\n",
       " 38,\n",
       " 36,\n",
       " 34,\n",
       " 32,\n",
       " 30,\n",
       " 28,\n",
       " 26,\n",
       " 24,\n",
       " 22,\n",
       " 20,\n",
       " 18,\n",
       " 16,\n",
       " 14,\n",
       " 12,\n",
       " 10,\n",
       " 8,\n",
       " 6,\n",
       " 4,\n",
       " 2]"
      ]
     },
     "execution_count": 8,
     "metadata": {},
     "output_type": "execute_result"
    }
   ],
   "source": [
    "# 1 to 100 even number reverse\n",
    "list(range(100,1,-2))"
   ]
  },
  {
   "cell_type": "code",
   "execution_count": 9,
   "id": "50f4e572",
   "metadata": {},
   "outputs": [
    {
     "data": {
      "text/plain": [
       "[99,\n",
       " 97,\n",
       " 95,\n",
       " 93,\n",
       " 91,\n",
       " 89,\n",
       " 87,\n",
       " 85,\n",
       " 83,\n",
       " 81,\n",
       " 79,\n",
       " 77,\n",
       " 75,\n",
       " 73,\n",
       " 71,\n",
       " 69,\n",
       " 67,\n",
       " 65,\n",
       " 63,\n",
       " 61,\n",
       " 59,\n",
       " 57,\n",
       " 55,\n",
       " 53,\n",
       " 51,\n",
       " 49,\n",
       " 47,\n",
       " 45,\n",
       " 43,\n",
       " 41,\n",
       " 39,\n",
       " 37,\n",
       " 35,\n",
       " 33,\n",
       " 31,\n",
       " 29,\n",
       " 27,\n",
       " 25,\n",
       " 23,\n",
       " 21,\n",
       " 19,\n",
       " 17,\n",
       " 15,\n",
       " 13,\n",
       " 11,\n",
       " 9,\n",
       " 7,\n",
       " 5,\n",
       " 3,\n",
       " 1]"
      ]
     },
     "execution_count": 9,
     "metadata": {},
     "output_type": "execute_result"
    }
   ],
   "source": [
    "# 1 to 100 odd number reverse\n",
    "list(range(99,0,-2))"
   ]
  },
  {
   "cell_type": "code",
   "execution_count": 10,
   "id": "3d27551a",
   "metadata": {},
   "outputs": [
    {
     "data": {
      "text/plain": [
       "[-10, -9, -8, -7, -6, -5, -4, -3, -2, -1, 0, 1, 2, 3, 4, 5, 6, 7, 8, 9, 10]"
      ]
     },
     "execution_count": 10,
     "metadata": {},
     "output_type": "execute_result"
    }
   ],
   "source": [
    "# -10 to +10\n",
    "list(range(-10,11))"
   ]
  },
  {
   "cell_type": "code",
   "execution_count": null,
   "id": "be653f3b",
   "metadata": {},
   "outputs": [],
   "source": [
    "#What is frozenset\n",
    "#->Frozen set is just an immutable version of a Python set object\n",
    "# how it is different from set\n",
    "#->Since the elements are fixed, unlike sets you can't add or remove elements from the set.\n",
    "#  It is also called an immutable set."
   ]
  },
  {
   "cell_type": "code",
   "execution_count": 11,
   "id": "29b12cdd",
   "metadata": {},
   "outputs": [
    {
     "data": {
      "text/plain": [
       "[0, 1, 2, 3, 4, 5, 6, 7, 8, 9]"
      ]
     },
     "execution_count": 11,
     "metadata": {},
     "output_type": "execute_result"
    }
   ],
   "source": [
    "#different options in range()\n",
    "#range(stop) ,range(start, stop) ,range(start, stop, step)\n",
    "\n",
    "#1.range(stop) ->by default its start zero and stop is exclusive\n",
    "list(range(10))"
   ]
  },
  {
   "cell_type": "code",
   "execution_count": 12,
   "id": "cb5f05e0",
   "metadata": {},
   "outputs": [
    {
     "data": {
      "text/plain": [
       "[5, 6, 7, 8, 9, 10, 11, 12, 13, 14]"
      ]
     },
     "execution_count": 12,
     "metadata": {},
     "output_type": "execute_result"
    }
   ],
   "source": [
    "#2.range(start, stop)-> its start from start  and stop is exclusive\n",
    "list(range(5,15))"
   ]
  },
  {
   "cell_type": "code",
   "execution_count": 13,
   "id": "a9adaf7b",
   "metadata": {},
   "outputs": [
    {
     "data": {
      "text/plain": [
       "[5, 8, 11, 14, 17, 20, 23]"
      ]
     },
     "execution_count": 13,
     "metadata": {},
     "output_type": "execute_result"
    }
   ],
   "source": [
    "#3.range(start, stop, step)\n",
    "#->its start from start,stop is exclusive and diff, between two value\n",
    "\n",
    "list(range(5,25,3))"
   ]
  },
  {
   "cell_type": "code",
   "execution_count": null,
   "id": "454dd36e",
   "metadata": {},
   "outputs": [],
   "source": []
  }
 ],
 "metadata": {
  "kernelspec": {
   "display_name": "Python 3 (ipykernel)",
   "language": "python",
   "name": "python3"
  },
  "language_info": {
   "codemirror_mode": {
    "name": "ipython",
    "version": 3
   },
   "file_extension": ".py",
   "mimetype": "text/x-python",
   "name": "python",
   "nbconvert_exporter": "python",
   "pygments_lexer": "ipython3",
   "version": "3.9.13"
  }
 },
 "nbformat": 4,
 "nbformat_minor": 5
}
