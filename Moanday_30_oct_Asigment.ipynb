{
 "cells": [
  {
   "cell_type": "code",
   "execution_count": null,
   "id": "6a8ce9af",
   "metadata": {},
   "outputs": [],
   "source": [
    "#Assigment:\n",
    "#Break vs Continue\n",
    "#similarity between beak and continue:->skip the current execution.\n",
    "#what is pass /use of pass->Create empty block\n",
    "#10 problem on list comprehension."
   ]
  },
  {
   "cell_type": "code",
   "execution_count": 6,
   "id": "019412c8",
   "metadata": {},
   "outputs": [],
   "source": [
    "#Break vs Continue:\n",
    "#->Break:A break statement in Python alters the flow of a loop by terminating it once a specified condition is met. \n",
    "#->Continue: The continue statement in Python is used to skip the remaining code inside a loop for the \n",
    "    #->current iteration only"
   ]
  },
  {
   "cell_type": "code",
   "execution_count": 4,
   "id": "00fee5f3",
   "metadata": {},
   "outputs": [],
   "source": [
    "#similarity between beak and continue:->\n",
    "#->Both the statements are of a similar type, and they allow a user to alter/ make changes to the flow of a program\n",
    "#->Both skip the current execution."
   ]
  },
  {
   "cell_type": "code",
   "execution_count": 7,
   "id": "e9f09652",
   "metadata": {},
   "outputs": [],
   "source": [
    "#what is pass:\n",
    "#->The pass statement is used as a placeholder for future code. When the pass statement is executed,\n",
    "#-nothing happens, but you avoid getting an error when empty code is not allowed. Empty code is not allowed in loops,\n",
    "#-function definitions, class definitions, or in if statements."
   ]
  },
  {
   "cell_type": "code",
   "execution_count": 9,
   "id": "8572721b",
   "metadata": {},
   "outputs": [
    {
     "name": "stdout",
     "output_type": "stream",
     "text": [
      "[27, 64, 343, 125, 512]\n"
     ]
    }
   ],
   "source": [
    "#10 problem on list comprehension.\n",
    "\n",
    "#1.print cube to number\n",
    "\n",
    "l=[3,4,7,5,8]\n",
    "print([i**3 for i in l])"
   ]
  },
  {
   "cell_type": "code",
   "execution_count": 12,
   "id": "aec3de30",
   "metadata": {},
   "outputs": [
    {
     "name": "stdout",
     "output_type": "stream",
     "text": [
      "[32, 22, 10]\n"
     ]
    }
   ],
   "source": [
    "#2.remove all odd numbers from the list:\n",
    "numbers = [3,5,45,97,32,22,10,19,39,43]\n",
    "print([ i for i in numbers if i%2==0])"
   ]
  },
  {
   "cell_type": "code",
   "execution_count": 13,
   "id": "8391d155",
   "metadata": {},
   "outputs": [
    {
     "name": "stdout",
     "output_type": "stream",
     "text": [
      "[3, 5, 45, 97, 19, 39, 43]\n"
     ]
    }
   ],
   "source": [
    "#2.remove all even numbers from the list:\n",
    "numbers = [3,5,45,97,32,22,10,19,39,43]\n",
    "print([ i for i in numbers if i%2!=0])"
   ]
  },
  {
   "cell_type": "code",
   "execution_count": 15,
   "id": "2e3071cf",
   "metadata": {},
   "outputs": [
    {
     "name": "stdout",
     "output_type": "stream",
     "text": [
      "[0, 7, 14, 21, 28, 35, 42, 49, 56, 63, 70, 77, 84, 91, 98]\n"
     ]
    }
   ],
   "source": [
    "#3.Find all of the numbers from 1-100 that are divisible by 7\n",
    "print([i for i in range(101) if i%7==0 ])"
   ]
  },
  {
   "cell_type": "code",
   "execution_count": 25,
   "id": "e0265da5",
   "metadata": {},
   "outputs": [
    {
     "name": "stdout",
     "output_type": "stream",
     "text": [
      "[2, 3, 4]\n"
     ]
    }
   ],
   "source": [
    "#4.Find the common numbers in two lists (without using a tuple or set) \n",
    "list_a = [1, 2, 3, 4]\n",
    "list_b = [2, 3, 4, 5]\n",
    "l=len(list_a)\n",
    "print([ list_a[i]  for i in range(l) if list_a[i] in list_b])"
   ]
  },
  {
   "cell_type": "code",
   "execution_count": 29,
   "id": "802e6474",
   "metadata": {},
   "outputs": [
    {
     "name": "stdout",
     "output_type": "stream",
     "text": [
      "['Chb', 'Tdb']\n"
     ]
    }
   ],
   "source": [
    "#5. Finding the elements in a list in which elements are ended with the letter ‘b’ and\n",
    "#->the length of that element is greater than 2\n",
    "names = ['Ch','Dh','Eh','cb','Tb','Td','Chb','Tdb']\n",
    "print([ i for i in names if i.endswith('b') and len(i) > 2])"
   ]
  },
  {
   "cell_type": "code",
   "execution_count": 31,
   "id": "a8c32055",
   "metadata": {},
   "outputs": [
    {
     "name": "stdout",
     "output_type": "stream",
     "text": [
      "['Bicycle', 'Motorcycle']\n"
     ]
    }
   ],
   "source": [
    "#6.Given dictionary is consisted of vehicles and their weights in kilograms. \n",
    "#->Contruct a list of the names of vehicles with weight below 5000 kilograms.\n",
    "dict={\"Sedan\": 1500, \"SUV\": 2000, \"Pickup\": 2500, \"Minivan\": 1600, \"Van\": 2400, \"Semi\": 13600,\n",
    "      \"Bicycle\": 7, \"Motorcycle\": 110}\n",
    "\n",
    "\n",
    "print([ i for i in dict if dict[i]<500])\n",
    "\n",
    "\n",
    "\n",
    "\n",
    "\n",
    "\n"
   ]
  },
  {
   "cell_type": "code",
   "execution_count": 41,
   "id": "a6fcfb3b",
   "metadata": {},
   "outputs": [
    {
     "name": "stdout",
     "output_type": "stream",
     "text": [
      "[0, 10, 20, 30, 40, 50, 60, 70, 80, 90, 100]\n"
     ]
    }
   ],
   "source": [
    "#7.NUmber divisible by both 2 and 5 from 10-100\n",
    "\n",
    "print([i for i in range(101) if i%2==0  if i%5==0])"
   ]
  },
  {
   "cell_type": "code",
   "execution_count": 34,
   "id": "ddc60657",
   "metadata": {},
   "outputs": [
    {
     "name": "stdout",
     "output_type": "stream",
     "text": [
      "[12, 70, 73, 96, 14, 35]\n"
     ]
    }
   ],
   "source": [
    "#8.print+ ve number\n",
    "num=[12,-1,70,73,96,-7,-2,14,35]\n",
    "print([ i for i in num if i>0])"
   ]
  },
  {
   "cell_type": "code",
   "execution_count": 35,
   "id": "36cc75a7",
   "metadata": {},
   "outputs": [
    {
     "name": "stdout",
     "output_type": "stream",
     "text": [
      "[-1, -7, -2]\n"
     ]
    }
   ],
   "source": [
    "#9.print -ve number\n",
    "num=[12,-1,70,73,96,-7,-2,14,35]\n",
    "print([ i for i in num if i<0])"
   ]
  },
  {
   "cell_type": "code",
   "execution_count": 44,
   "id": "58344094",
   "metadata": {},
   "outputs": [
    {
     "name": "stdout",
     "output_type": "stream",
     "text": [
      "[0, 2, 4, 6, 8, 9, 10, 12, 14, 16, 18, 20, 22, 24, 26, 27, 28, 30, 32, 34, 36, 38, 40, 42, 44, 45, 46, 48, 50, 52, 54, 56, 58, 60, 62, 63, 64, 66, 68, 70, 72, 74, 76, 78, 80, 81, 82, 84, 86, 88, 90, 92, 94, 96, 98, 99]\n"
     ]
    }
   ],
   "source": [
    "#10.Use a nested list comprehension to find all of the numbers from 1-1000 that\n",
    "#->are divisible by any single digit besides 1 (2-9)\n",
    "\n",
    "print( [i for i in range(100) if i%2==0 or i%9==0])"
   ]
  },
  {
   "cell_type": "code",
   "execution_count": null,
   "id": "4e00df5f",
   "metadata": {},
   "outputs": [],
   "source": []
  }
 ],
 "metadata": {
  "kernelspec": {
   "display_name": "Python 3 (ipykernel)",
   "language": "python",
   "name": "python3"
  },
  "language_info": {
   "codemirror_mode": {
    "name": "ipython",
    "version": 3
   },
   "file_extension": ".py",
   "mimetype": "text/x-python",
   "name": "python",
   "nbconvert_exporter": "python",
   "pygments_lexer": "ipython3",
   "version": "3.9.13"
  }
 },
 "nbformat": 4,
 "nbformat_minor": 5
}
