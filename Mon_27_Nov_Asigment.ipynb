{
 "cells": [
  {
   "cell_type": "code",
   "execution_count": 2,
   "id": "76e67d6d",
   "metadata": {},
   "outputs": [
    {
     "name": "stdout",
     "output_type": "stream",
     "text": [
      "Sum  : 0\n",
      "Sum  : 6\n",
      "Sum  : 22\n"
     ]
    }
   ],
   "source": [
    "#Consturctor overaloading in variable lenght argument Example\n",
    "class Sum_num:\n",
    "    def __init__(self, *args):\n",
    "        self.numbers = args\n",
    "\n",
    "    def cal_sum(self):\n",
    "        return sum(self.numbers)\n",
    "\n",
    "\n",
    "s1 = Sum_num()\n",
    "s2 = Sum_num(1, 2, 3)\n",
    "s3 = Sum_num(4, 5, 6, 7)\n",
    "\n",
    "print(\"Sum  :\", s1.cal_sum()) \n",
    "print(\"Sum  :\", s2.cal_sum())  \n",
    "print(\"Sum  :\", s3.cal_sum())  \n"
   ]
  },
  {
   "cell_type": "code",
   "execution_count": null,
   "id": "a828bab7",
   "metadata": {},
   "outputs": [],
   "source": []
  }
 ],
 "metadata": {
  "kernelspec": {
   "display_name": "Python 3 (ipykernel)",
   "language": "python",
   "name": "python3"
  },
  "language_info": {
   "codemirror_mode": {
    "name": "ipython",
    "version": 3
   },
   "file_extension": ".py",
   "mimetype": "text/x-python",
   "name": "python",
   "nbconvert_exporter": "python",
   "pygments_lexer": "ipython3",
   "version": "3.9.13"
  }
 },
 "nbformat": 4,
 "nbformat_minor": 5
}
