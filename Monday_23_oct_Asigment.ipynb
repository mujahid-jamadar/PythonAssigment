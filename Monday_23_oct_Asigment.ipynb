{
 "cells": [
  {
   "cell_type": "code",
   "execution_count": 1,
   "id": "5868db76",
   "metadata": {},
   "outputs": [],
   "source": [
    "#Assigmnet:\n",
    "# what is Indentation\n",
    "#solve 3 example on each 1.if 2.if else 3.if elif 4.if (if else )if\n",
    "#else vs elif\n",
    "#if vs else"
   ]
  },
  {
   "cell_type": "code",
   "execution_count": null,
   "id": "51828d7f",
   "metadata": {},
   "outputs": [],
   "source": [
    "# what is Indentation\n",
    "#->Python uses indentation to highlight the blocks of code.\n",
    "#->Python's default indentation spaces are four spaces."
   ]
  },
  {
   "cell_type": "code",
   "execution_count": 2,
   "id": "c49c340b",
   "metadata": {},
   "outputs": [
    {
     "name": "stdout",
     "output_type": "stream",
     "text": [
      "Pass\n"
     ]
    }
   ],
   "source": [
    "#solve 3 example on each 1.if 2.if else 3.if elif 4.if (if else )if\n",
    "#1.if:\n",
    "#eg.1\n",
    "mark=50\n",
    "if mark>40:\n",
    "    print('Pass')"
   ]
  },
  {
   "cell_type": "code",
   "execution_count": 26,
   "id": "539442d2",
   "metadata": {},
   "outputs": [
    {
     "name": "stdout",
     "output_type": "stream",
     "text": [
      "X is Integer\n"
     ]
    }
   ],
   "source": [
    "#eg.2\n",
    "x=10\n",
    "if type(x)==int:\n",
    "    print('X is Integer')"
   ]
  },
  {
   "cell_type": "code",
   "execution_count": 7,
   "id": "d4a57564",
   "metadata": {},
   "outputs": [
    {
     "name": "stdout",
     "output_type": "stream",
     "text": [
      "battery is low\n"
     ]
    }
   ],
   "source": [
    "#eg.3\n",
    "battery=19\n",
    "if battery<=20:\n",
    "    print('battery is low')"
   ]
  },
  {
   "cell_type": "code",
   "execution_count": 8,
   "id": "f116bf67",
   "metadata": {},
   "outputs": [
    {
     "name": "stdout",
     "output_type": "stream",
     "text": [
      "Pass\n"
     ]
    }
   ],
   "source": [
    "#1.if else\n",
    "#eg.1\n",
    "mark=50\n",
    "if mark>40:\n",
    "    print('Pass')\n",
    "else:\n",
    "    print('Fail')\n"
   ]
  },
  {
   "cell_type": "code",
   "execution_count": 9,
   "id": "dd43c9d6",
   "metadata": {},
   "outputs": [
    {
     "name": "stdout",
     "output_type": "stream",
     "text": [
      " B is greater than A\n"
     ]
    }
   ],
   "source": [
    "#eg.2\n",
    "A=10\n",
    "B=20\n",
    "if A>B:\n",
    "    print(' A is greater than B')\n",
    "else:\n",
    "    print(' B is greater than A')"
   ]
  },
  {
   "cell_type": "code",
   "execution_count": 11,
   "id": "dd1af156",
   "metadata": {},
   "outputs": [
    {
     "name": "stdout",
     "output_type": "stream",
     "text": [
      "PK is younger than MJ\n"
     ]
    }
   ],
   "source": [
    "#eg.3\n",
    "mj_age=23\n",
    "pk_age=21\n",
    "if mj_age<pk_age:\n",
    "    print('MJ is younger than PK')\n",
    "else:\n",
    "    print('PK is younger than MJ')"
   ]
  },
  {
   "cell_type": "code",
   "execution_count": 13,
   "id": "ae756986",
   "metadata": {},
   "outputs": [
    {
     "name": "stdout",
     "output_type": "stream",
     "text": [
      "Good\n"
     ]
    }
   ],
   "source": [
    "#3.if elif\n",
    "#eg.1\n",
    "mark=90\n",
    "if mark>90:\n",
    "    print('Excellent')\n",
    "elif mark>70:\n",
    "    print('Good')\n",
    "else:\n",
    "    print('Average')\n",
    "    "
   ]
  },
  {
   "cell_type": "code",
   "execution_count": 15,
   "id": "b31a7d95",
   "metadata": {},
   "outputs": [
    {
     "name": "stdout",
     "output_type": "stream",
     "text": [
      "Second Year\n"
     ]
    }
   ],
   "source": [
    "#eg.2\n",
    "semester=4\n",
    "if semester>=7:\n",
    "    print('Fourth Year')\n",
    "elif semester>=5:\n",
    "    print('Third Year')\n",
    "elif semester>=3:\n",
    "    print('Second Year')\n",
    "else:\n",
    "    print('First Year')"
   ]
  },
  {
   "cell_type": "code",
   "execution_count": 16,
   "id": "76f1c74d",
   "metadata": {},
   "outputs": [
    {
     "name": "stdout",
     "output_type": "stream",
     "text": [
      "it's a prime number\n",
      "They only have two factors, itself and 1.\n"
     ]
    }
   ],
   "source": [
    "#eg.3\n",
    "is_odd = False\n",
    "is_prime = True\n",
    "if is_odd:\n",
    "    print(\"it's an odd number\")\n",
    "    print('They are not divisible by 2')\n",
    "elif is_prime:\n",
    "    print(\"it's a prime number\")\n",
    "    print(\"They only have two factors, itself and 1.\")\n",
    "else:\n",
    "    print(\"it's an even number\")\n",
    "    print('They are divisible by 2.')"
   ]
  },
  {
   "cell_type": "code",
   "execution_count": 17,
   "id": "9f70744e",
   "metadata": {},
   "outputs": [
    {
     "name": "stdout",
     "output_type": "stream",
     "text": [
      "x is equal to 1 but y is not equal to 2\n"
     ]
    }
   ],
   "source": [
    "#4.if else nested\n",
    "\n",
    "#eg.1\n",
    "x=1\n",
    "y=4\n",
    "z=3\n",
    "if x == 1:\n",
    "    if y == 2:\n",
    "        if z == 3:\n",
    "            print(\"x, y, and z are all equal to 1, 2, and 3, respectively\")\n",
    "        else:\n",
    "            print(\"x and y are equal to 1 and 2, respectively, but z is not equal to 3\")\n",
    "    else:\n",
    "        print(\"x is equal to 1 but y is not equal to 2\")\n",
    "else:\n",
    "    print(\"x is not equal to 1\")"
   ]
  },
  {
   "cell_type": "code",
   "execution_count": 19,
   "id": "7a47846b",
   "metadata": {},
   "outputs": [
    {
     "name": "stdout",
     "output_type": "stream",
     "text": [
      "Good\n"
     ]
    }
   ],
   "source": [
    "#eg.2\n",
    "mark=60\n",
    "if mark>40:\n",
    "    if mark>90:\n",
    "        print('Excellent')\n",
    "    elif mark>70:\n",
    "        print('Average')\n",
    "    else:\n",
    "        print('Good')\n",
    "else:\n",
    "    print('Fail')"
   ]
  },
  {
   "cell_type": "code",
   "execution_count": 25,
   "id": "d61b2213",
   "metadata": {},
   "outputs": [
    {
     "name": "stdout",
     "output_type": "stream",
     "text": [
      "Enter a number: 7\n",
      "7 is Odd\n"
     ]
    }
   ],
   "source": [
    "#eg.3\n",
    "\n",
    "inp_num = input(\"Enter a number: \")\n",
    "\n",
    "inp_num = int(inp_num)\n",
    "\n",
    "if inp_num == 0:\n",
    "  print(inp_num, \"is Even\")\n",
    "else:\n",
    "    if inp_num%2==0:\n",
    "        print(inp_num, \"is Even\")\n",
    "    else:\n",
    "        print(inp_num, \"is Odd\")"
   ]
  },
  {
   "cell_type": "code",
   "execution_count": null,
   "id": "e3a5a832",
   "metadata": {},
   "outputs": [],
   "source": [
    "#else vs elif\n",
    "#-.We use elif statements in Python to execute multiple conditional statements whereas the\n",
    "#->else is  used in conditional statements (if statements), and decides what to do if the condition is False."
   ]
  },
  {
   "cell_type": "code",
   "execution_count": null,
   "id": "c9b29054",
   "metadata": {},
   "outputs": [],
   "source": [
    "#if vs else\n",
    "#->What is the difference between if and else?\n",
    "#->if: It checks if any condition is “true” or not, if it is true then it executes the code inside the if block. \n",
    "#->else: If the condition is “false” which is checked by the if block, then else block executes the other code within it."
   ]
  },
  {
   "cell_type": "code",
   "execution_count": null,
   "id": "bf91e3b5",
   "metadata": {},
   "outputs": [],
   "source": []
  },
  {
   "cell_type": "code",
   "execution_count": null,
   "id": "c9060dfe",
   "metadata": {},
   "outputs": [],
   "source": []
  }
 ],
 "metadata": {
  "kernelspec": {
   "display_name": "Python 3 (ipykernel)",
   "language": "python",
   "name": "python3"
  },
  "language_info": {
   "codemirror_mode": {
    "name": "ipython",
    "version": 3
   },
   "file_extension": ".py",
   "mimetype": "text/x-python",
   "name": "python",
   "nbconvert_exporter": "python",
   "pygments_lexer": "ipython3",
   "version": "3.9.13"
  }
 },
 "nbformat": 4,
 "nbformat_minor": 5
}
