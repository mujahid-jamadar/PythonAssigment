{
 "cells": [
  {
   "cell_type": "code",
   "execution_count": null,
   "id": "f9399240",
   "metadata": {},
   "outputs": [],
   "source": [
    "# check diff types of argurment in lambda funtion\n",
    "#solve 3 problems usinf if else in lambda\n",
    "#map vs filte vs reduce\n",
    "#what is filter map/filter/reduce solve 3 each on .\n"
   ]
  },
  {
   "cell_type": "code",
   "execution_count": null,
   "id": "d90309ab",
   "metadata": {},
   "outputs": [],
   "source": [
    "#reduce donot require to typecast\n",
    "#map is operation base,filter: is condition base ,reduce: to reduce"
   ]
  },
  {
   "cell_type": "code",
   "execution_count": 1,
   "id": "b4fc55c0",
   "metadata": {},
   "outputs": [
    {
     "name": "stdout",
     "output_type": "stream",
     "text": [
      "60\n"
     ]
    }
   ],
   "source": [
    "# check diff types of argurment in lambda funtion\n",
    "#1.Positional arguments\n",
    "sum=lambda x,y,z:x+y+z\n",
    "print(sum(10,20,30))"
   ]
  },
  {
   "cell_type": "code",
   "execution_count": 2,
   "id": "7ef60b6f",
   "metadata": {},
   "outputs": [
    {
     "name": "stdout",
     "output_type": "stream",
     "text": [
      "50\n"
     ]
    }
   ],
   "source": [
    "#2.keyword arguments)\n",
    "sum=lambda x,y,z:y+z\n",
    "print(sum(x=10,z=20,y=30))"
   ]
  },
  {
   "cell_type": "code",
   "execution_count": 1,
   "id": "9bfd3bb9",
   "metadata": {},
   "outputs": [
    {
     "name": "stdout",
     "output_type": "stream",
     "text": [
      "50\n"
     ]
    }
   ],
   "source": [
    "#3.default arguments)\n",
    "sum=lambda x,y,z=20:x+y+z\n",
    "print(sum(x=10,y=20))"
   ]
  },
  {
   "cell_type": "code",
   "execution_count": 1,
   "id": "9be8c20e",
   "metadata": {},
   "outputs": [
    {
     "name": "stdout",
     "output_type": "stream",
     "text": [
      "120\n"
     ]
    }
   ],
   "source": [
    "#4.Variable positional arguments \n",
    "max_value = lambda *args: max(args) if args else None\n",
    "print(max_value(100, 75, 120, 90))  # Output will be 120"
   ]
  },
  {
   "cell_type": "code",
   "execution_count": 7,
   "id": "52374e29",
   "metadata": {},
   "outputs": [
    {
     "name": "stdout",
     "output_type": "stream",
     "text": [
      "Pass\n",
      "Fail\n"
     ]
    }
   ],
   "source": [
    "#solve 3 problems usinf if else in lambda\n",
    "#1.pass fail\n",
    "\n",
    "s=lambda num: 'Pass' if num>40 else 'Fail'\n",
    "\n",
    "print(s(89))\n",
    "print(s(40))\n"
   ]
  },
  {
   "cell_type": "code",
   "execution_count": 9,
   "id": "db4b4929",
   "metadata": {},
   "outputs": [
    {
     "name": "stdout",
     "output_type": "stream",
     "text": [
      "Even\n",
      "Odd\n"
     ]
    }
   ],
   "source": [
    "#2.Even or odd \n",
    "s=lambda num: 'Even' if num%2==0 else 'Odd'\n",
    "\n",
    "print(s(10))\n",
    "print(s(7))"
   ]
  },
  {
   "cell_type": "code",
   "execution_count": 11,
   "id": "ce072ad2",
   "metadata": {},
   "outputs": [
    {
     "name": "stdout",
     "output_type": "stream",
     "text": [
      "+ve\n",
      "-ve\n"
     ]
    }
   ],
   "source": [
    "#2.+ve or -ve \n",
    "s=lambda num: '+ve' if num>0 else '-ve'\n",
    "\n",
    "print(s(101))\n",
    "print(s(-76))"
   ]
  },
  {
   "cell_type": "markdown",
   "id": "9f4c70cf",
   "metadata": {},
   "source": [
    "map vs filte vs reduce\n",
    "\n",
    "map() is for applying a function to every item in an iterable and returning the modified list of results.To print result require typecast\n",
    "\n",
    "\n",
    "filter() is for selectively including elements from an iterable based on a condition defined by a function.To print result require typecast.\n",
    "\n",
    "\n",
    "reduce() is for aggregating the elements of an iterable into a single value through repeated application of a function.#reduce not require to typecast"
   ]
  },
  {
   "cell_type": "code",
   "execution_count": 14,
   "id": "77680212",
   "metadata": {},
   "outputs": [
    {
     "name": "stdout",
     "output_type": "stream",
     "text": [
      "[32.0, 50.0, 68.0, 86.0, 212.0]\n"
     ]
    }
   ],
   "source": [
    "#what is filter map/filter/reduce solve 3 each on .\n",
    "#1.map:It transforms each element of an iterable by applying a function and returns an iterator that yields the results.\n",
    "\n",
    "#ps1.Convert Celsius to Fahrenheit using map\n",
    "\n",
    "temperatures = [0, 10, 20, 30, 100]\n",
    "\n",
    "\n",
    "fah_temp = list(map(lambda c: (c * 9/5) + 32, temperatures))\n",
    "print(fah_temp)"
   ]
  },
  {
   "cell_type": "code",
   "execution_count": 15,
   "id": "b08f8b66",
   "metadata": {},
   "outputs": [
    {
     "name": "stdout",
     "output_type": "stream",
     "text": [
      "[1, 4, 9, 16, 25]\n"
     ]
    }
   ],
   "source": [
    "#ps2\n",
    "num = [1, 2, 3, 4, 5]\n",
    "\n",
    "sq = list(map(lambda x: x ** 2, num))\n",
    "print(sq) \n"
   ]
  },
  {
   "cell_type": "code",
   "execution_count": 17,
   "id": "23d55f8d",
   "metadata": {},
   "outputs": [
    {
     "name": "stdout",
     "output_type": "stream",
     "text": [
      "['MUJAHID', 'AFTAB', 'BASIT', 'SALMAN']\n"
     ]
    }
   ],
   "source": [
    "name = ['Mujahid', 'Aftab', 'basit', 'Salman']\n",
    "upper = list(map(str.upper, name))\n",
    "print(upper)  \n",
    "\n"
   ]
  },
  {
   "cell_type": "code",
   "execution_count": 20,
   "id": "58ce8f2e",
   "metadata": {},
   "outputs": [
    {
     "name": "stdout",
     "output_type": "stream",
     "text": [
      "[1, 3, 5, 7, 9]\n"
     ]
    }
   ],
   "source": [
    "#filter: It filters elements based on a given function that tests each element for a condition.\n",
    "        #->Only the elements that meet the condition are included in the output.\n",
    "    \n",
    "    \n",
    "#ps.1\n",
    "num = [1, 2, 3, 4, 5, 6, 7, 8, 9, 10]\n",
    "\n",
    "odd_num = list(filter(lambda x: x % 2 != 0, num))\n",
    "print(odd_num) "
   ]
  },
  {
   "cell_type": "code",
   "execution_count": 21,
   "id": "d5047236",
   "metadata": {},
   "outputs": [
    {
     "name": "stdout",
     "output_type": "stream",
     "text": [
      "['cherry']\n"
     ]
    }
   ],
   "source": [
    "#ps.2\n",
    "words = ['apple', 'banana', 'cherry', 'orange', 'kiwi']\n",
    "\n",
    "c_words = list(filter(lambda word: word.startswith('c'), words))\n",
    "print(c_words)\n"
   ]
  },
  {
   "cell_type": "code",
   "execution_count": 27,
   "id": "8dc9f6e5",
   "metadata": {},
   "outputs": [
    {
     "name": "stdout",
     "output_type": "stream",
     "text": [
      "[1, 2, 3, 4, 5]\n"
     ]
    }
   ],
   "source": [
    "#ps.3 Filter Positive Numbers\n",
    "num = [-3, -2, -1, 0, 1, 2, 3, 4, 5]\n",
    "\n",
    "posit = list(filter(lambda x: x > 0, num))\n",
    "print(posit)  "
   ]
  },
  {
   "cell_type": "code",
   "execution_count": 30,
   "id": "ca9e426d",
   "metadata": {},
   "outputs": [
    {
     "name": "stdout",
     "output_type": "stream",
     "text": [
      "209\n"
     ]
    }
   ],
   "source": [
    "#reduce:It repeatedly applies a function to the elements, aggregating or reducing them to a final result.\n",
    "\n",
    "from functools import reduce\n",
    "#ps.1  Finding the Sum of a List of Numbers\n",
    "numb = [1, 2, 3, 4, 5]\n",
    "\n",
    "# Find the sum of numbers using reduce\n",
    "sum = reduce(lambda x, y: x + y, num)\n",
    "print(sum) \n"
   ]
  },
  {
   "cell_type": "code",
   "execution_count": 31,
   "id": "48a8686e",
   "metadata": {},
   "outputs": [
    {
     "name": "stdout",
     "output_type": "stream",
     "text": [
      "77\n"
     ]
    }
   ],
   "source": [
    "#ps: Finding the Maximum Number in a List\n",
    "num = [23, 56, 11, 77, 42]\n",
    "max_num = reduce(lambda x, y: x if x > y else y, num)\n",
    "print(max_num)  # Output: 77\n",
    "\n"
   ]
  },
  {
   "cell_type": "code",
   "execution_count": 32,
   "id": "d47bd163",
   "metadata": {},
   "outputs": [
    {
     "name": "stdout",
     "output_type": "stream",
     "text": [
      "Hello, World!\n"
     ]
    }
   ],
   "source": [
    "#ps.3 Concatenating Strings\n",
    "strings = ['Hello', ', ', 'World', '!']\n",
    "st = reduce(lambda x, y: x + y, strings)\n",
    "print(st)  \n"
   ]
  },
  {
   "cell_type": "code",
   "execution_count": null,
   "id": "6519dc82",
   "metadata": {},
   "outputs": [],
   "source": []
  }
 ],
 "metadata": {
  "kernelspec": {
   "display_name": "Python 3 (ipykernel)",
   "language": "python",
   "name": "python3"
  },
  "language_info": {
   "codemirror_mode": {
    "name": "ipython",
    "version": 3
   },
   "file_extension": ".py",
   "mimetype": "text/x-python",
   "name": "python",
   "nbconvert_exporter": "python",
   "pygments_lexer": "ipython3",
   "version": "3.9.13"
  }
 },
 "nbformat": 4,
 "nbformat_minor": 5
}
