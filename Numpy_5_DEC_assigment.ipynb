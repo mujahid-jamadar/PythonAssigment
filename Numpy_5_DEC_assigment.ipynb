{
 "cells": [
  {
   "cell_type": "code",
   "execution_count": null,
   "id": "35a773d5",
   "metadata": {},
   "outputs": [],
   "source": [
    "create 4*4 array with all True values\n",
    "create 4*4 array with all True values\n",
    "create 4*4 array whose diagonal element are True and remaining False\n",
    "create 4*4 array whose diagonal element are False and remaining True"
   ]
  },
  {
   "cell_type": "code",
   "execution_count": null,
   "id": "de2bae8f",
   "metadata": {},
   "outputs": [],
   "source": [
    "#Q\n",
    "divide\n",
    "multiply\n",
    "floor_divide\n",
    "power \n",
    "mod"
   ]
  },
  {
   "cell_type": "code",
   "execution_count": 12,
   "id": "129bb961",
   "metadata": {},
   "outputs": [
    {
     "data": {
      "text/plain": [
       "array([[ True,  True,  True,  True],\n",
       "       [ True,  True,  True,  True],\n",
       "       [ True,  True,  True,  True],\n",
       "       [ True,  True,  True,  True]])"
      ]
     },
     "execution_count": 12,
     "metadata": {},
     "output_type": "execute_result"
    }
   ],
   "source": [
    "#create 4*4 array with all True values\n",
    "import numpy as np\n",
    "np.full((4,4),True,dtype=bool)"
   ]
  },
  {
   "cell_type": "code",
   "execution_count": 13,
   "id": "c78d88b1",
   "metadata": {},
   "outputs": [
    {
     "data": {
      "text/plain": [
       "array([[False, False, False, False],\n",
       "       [False, False, False, False],\n",
       "       [False, False, False, False],\n",
       "       [False, False, False, False]])"
      ]
     },
     "execution_count": 13,
     "metadata": {},
     "output_type": "execute_result"
    }
   ],
   "source": [
    "#create 4*4 array with all False values\n",
    "np.full((4,4),False,dtype=bool)"
   ]
  },
  {
   "cell_type": "code",
   "execution_count": 11,
   "id": "16b7ec87",
   "metadata": {},
   "outputs": [
    {
     "data": {
      "text/plain": [
       "array([[ True, False, False, False],\n",
       "       [False,  True, False, False],\n",
       "       [False, False,  True, False],\n",
       "       [False, False, False,  True]])"
      ]
     },
     "execution_count": 11,
     "metadata": {},
     "output_type": "execute_result"
    }
   ],
   "source": [
    "#create 4*4 array whose diagonal element are True and remaining False\n",
    "np.identity(4,dtype='bool')"
   ]
  },
  {
   "cell_type": "code",
   "execution_count": 14,
   "id": "efce51bb",
   "metadata": {},
   "outputs": [
    {
     "data": {
      "text/plain": [
       "array([[False,  True,  True,  True],\n",
       "       [ True, False,  True,  True],\n",
       "       [ True,  True, False,  True],\n",
       "       [ True,  True,  True, False]])"
      ]
     },
     "execution_count": 14,
     "metadata": {},
     "output_type": "execute_result"
    }
   ],
   "source": [
    "#create 4*4 array whose diagonal element are False and remaining True\n",
    "~np.identity(4,dtype='bool')"
   ]
  },
  {
   "cell_type": "code",
   "execution_count": 15,
   "id": "bf6e1bd3",
   "metadata": {},
   "outputs": [],
   "source": [
    "n=np.array([[20,40,60],[60,80,100]])"
   ]
  },
  {
   "cell_type": "code",
   "execution_count": 16,
   "id": "8a02b33e",
   "metadata": {},
   "outputs": [
    {
     "data": {
      "text/plain": [
       "array([[ 20,  40,  60],\n",
       "       [ 60,  80, 100]])"
      ]
     },
     "execution_count": 16,
     "metadata": {},
     "output_type": "execute_result"
    }
   ],
   "source": [
    "n"
   ]
  },
  {
   "cell_type": "code",
   "execution_count": 17,
   "id": "d6abfe47",
   "metadata": {},
   "outputs": [
    {
     "data": {
      "text/plain": [
       "array([[ 4.,  8., 12.],\n",
       "       [12., 16., 20.]])"
      ]
     },
     "execution_count": 17,
     "metadata": {},
     "output_type": "execute_result"
    }
   ],
   "source": [
    "#divide\n",
    "np.divide(n,5)"
   ]
  },
  {
   "cell_type": "code",
   "execution_count": 18,
   "id": "faad8429",
   "metadata": {},
   "outputs": [
    {
     "data": {
      "text/plain": [
       "array([[ 200,  400,  600],\n",
       "       [ 600,  800, 1000]])"
      ]
     },
     "execution_count": 18,
     "metadata": {},
     "output_type": "execute_result"
    }
   ],
   "source": [
    "#multiply\n",
    "np.multiply(n,10)"
   ]
  },
  {
   "cell_type": "code",
   "execution_count": 20,
   "id": "1e5ae975",
   "metadata": {},
   "outputs": [
    {
     "data": {
      "text/plain": [
       "array([3, 2, 6], dtype=int32)"
      ]
     },
     "execution_count": 20,
     "metadata": {},
     "output_type": "execute_result"
    }
   ],
   "source": [
    "#floor_divide\n",
    "a1 = np.array([10, 20, 30])\n",
    "a2 = np.array([3, 7, 5])\n",
    "\n",
    "np.floor_divide(a1, a2)"
   ]
  },
  {
   "cell_type": "code",
   "execution_count": 21,
   "id": "2c5c44aa",
   "metadata": {},
   "outputs": [
    {
     "data": {
      "text/plain": [
       "array([[  400,  1600,  3600],\n",
       "       [ 3600,  6400, 10000]], dtype=int32)"
      ]
     },
     "execution_count": 21,
     "metadata": {},
     "output_type": "execute_result"
    }
   ],
   "source": [
    "#power\n",
    "np.power(n,2)"
   ]
  },
  {
   "cell_type": "code",
   "execution_count": 24,
   "id": "c5eb1b05",
   "metadata": {},
   "outputs": [
    {
     "data": {
      "text/plain": [
       "array([[6, 5, 4],\n",
       "       [4, 3, 2]], dtype=int32)"
      ]
     },
     "execution_count": 24,
     "metadata": {},
     "output_type": "execute_result"
    }
   ],
   "source": [
    "#mod\n",
    "np.mod(n,7)"
   ]
  },
  {
   "cell_type": "code",
   "execution_count": null,
   "id": "d388b59e",
   "metadata": {},
   "outputs": [],
   "source": []
  }
 ],
 "metadata": {
  "kernelspec": {
   "display_name": "Python 3 (ipykernel)",
   "language": "python",
   "name": "python3"
  },
  "language_info": {
   "codemirror_mode": {
    "name": "ipython",
    "version": 3
   },
   "file_extension": ".py",
   "mimetype": "text/x-python",
   "name": "python",
   "nbconvert_exporter": "python",
   "pygments_lexer": "ipython3",
   "version": "3.9.13"
  }
 },
 "nbformat": 4,
 "nbformat_minor": 5
}
