{
 "cells": [
  {
   "cell_type": "code",
   "execution_count": 2,
   "id": "457d0c93",
   "metadata": {},
   "outputs": [
    {
     "name": "stdout",
     "output_type": "stream",
     "text": [
      "Sum of two numbers 45\n",
      "Multiplication of two numbers 350\n"
     ]
    }
   ],
   "source": [
    "#Exercise 1: Calculate the multiplication and sum of two numbers\n",
    "\n",
    "a=10\n",
    "b=35\n",
    "print(\"Sum of two numbers\",a+b)\n",
    "print(\"Multiplication of two numbers\",a*b)"
   ]
  },
  {
   "cell_type": "code",
   "execution_count": 10,
   "id": "7a65075e",
   "metadata": {},
   "outputs": [
    {
     "name": "stdout",
     "output_type": "stream",
     "text": [
      "Current Number 1  Previous Number  0  Sum:  1\n",
      "Current Number 2  Previous Number  1  Sum:  3\n",
      "Current Number 3  Previous Number  2  Sum:  5\n",
      "Current Number 4  Previous Number  3  Sum:  7\n",
      "Current Number 5  Previous Number  4  Sum:  9\n",
      "Current Number 6  Previous Number  5  Sum:  11\n",
      "Current Number 7  Previous Number  6  Sum:  13\n",
      "Current Number 8  Previous Number  7  Sum:  15\n",
      "Current Number 9  Previous Number  8  Sum:  17\n",
      "Current Number 10  Previous Number  9  Sum:  19\n"
     ]
    }
   ],
   "source": [
    "#Exercise 2: Print the sum of the current number and the previous number\n",
    "#Write a program to iterate the first 10 numbers, and in each iteration, print the sum of the current and previous number.\n",
    "\n",
    "\n",
    "\n",
    "prev_num=0\n",
    "for i in range(1,11):\n",
    "    sum=i+prev_num\n",
    "    print(\"Current Number\", i, \" Previous Number \", prev_num, \" Sum: \", sum)\n",
    "    prev_num=i\n",
    "    "
   ]
  },
  {
   "cell_type": "code",
   "execution_count": 16,
   "id": "1b700f1f",
   "metadata": {},
   "outputs": [
    {
     "name": "stdout",
     "output_type": "stream",
     "text": [
      "j\n",
      "h\n",
      "d\n",
      "J\n",
      "m\n",
      "d\n",
      "r\n"
     ]
    }
   ],
   "source": [
    "#Exercise 3: Print characters from a string that are present at an even index number\n",
    "s='Mujahid Jamadar'\n",
    "for i in range(1,len(s)):\n",
    "    if i%2==0:\n",
    "        print(s[i])"
   ]
  },
  {
   "cell_type": "code",
   "execution_count": 19,
   "id": "500c0959",
   "metadata": {},
   "outputs": [
    {
     "name": "stdout",
     "output_type": "stream",
     "text": [
      "ujahidjamadar\n"
     ]
    }
   ],
   "source": [
    "#Exercise 4: Remove first n characters from a string\n",
    "#Write a program to remove characters from a string starting from zero up to n and return a new string.\n",
    "\n",
    "def remove_char(s,n):\n",
    "    print(s[n::])\n",
    "    \n",
    "remove_char('PockMujahidjamadar',5)    "
   ]
  },
  {
   "cell_type": "code",
   "execution_count": 22,
   "id": "d1cae7ca",
   "metadata": {},
   "outputs": [
    {
     "name": "stdout",
     "output_type": "stream",
     "text": [
      "False\n",
      "True\n"
     ]
    }
   ],
   "source": [
    "#Exercise 5: Check if the first and last number of a list is the same\n",
    "#Write a function to return True if the first and last number of a given list is same. \n",
    "#->If numbers are different then return False.\n",
    "\n",
    "def check(l):\n",
    "    if l[0]==l[-1]:\n",
    "        return True\n",
    "    else:\n",
    "        return False\n",
    "    \n",
    "print(check([1,2,3,4,5,6,4,3,6,7,8]))\n",
    "print(check([7,8,4,5,2,34,1,8,90,7]))"
   ]
  },
  {
   "cell_type": "code",
   "execution_count": 23,
   "id": "d62861d7",
   "metadata": {},
   "outputs": [
    {
     "name": "stdout",
     "output_type": "stream",
     "text": [
      "15\n",
      "55\n",
      "40\n",
      "35\n",
      "90\n"
     ]
    }
   ],
   "source": [
    "#Exercise 6: Display numbers divisible by 5 from a list\n",
    "#Iterate the given list of numbers and print only those numbers which are divisible by 5\n",
    "\n",
    "l=[14,13,15,55,40,35,78,87,21,90]\n",
    "for i in l:\n",
    "    if i%5==0:\n",
    "        print(i)"
   ]
  },
  {
   "cell_type": "code",
   "execution_count": 24,
   "id": "0653b7b7",
   "metadata": {},
   "outputs": [
    {
     "data": {
      "text/plain": [
       "2"
      ]
     },
     "execution_count": 24,
     "metadata": {},
     "output_type": "execute_result"
    }
   ],
   "source": [
    "#Exercise 7: Return the count of a given substring from a string\n",
    "#Write a program to find how many times substring “Emma” appears in the given string.\n",
    "str = \"Emma is good developer. Emma is a writer\"\n",
    "\n",
    "str.count('Emma')"
   ]
  },
  {
   "cell_type": "code",
   "execution_count": 29,
   "id": "3bdcc312",
   "metadata": {},
   "outputs": [
    {
     "name": "stdout",
     "output_type": "stream",
     "text": [
      "1 \n",
      "2 2 \n",
      "3 3 3 \n",
      "4 4 4 4 \n",
      "5 5 5 5 5 \n"
     ]
    }
   ],
   "source": [
    "#Exercise 8: Print the following pattern\n",
    "#1 \n",
    "#2 2 \n",
    "#3 3 3 \n",
    "#4 4 4 4 \n",
    "#5 5 5 5 5\n",
    "\n",
    "for i in range(1,6):\n",
    "    for j in range(i):\n",
    "        print(i,end=' ')\n",
    "        \n",
    "    print()    "
   ]
  },
  {
   "cell_type": "code",
   "execution_count": 38,
   "id": "185b929b",
   "metadata": {},
   "outputs": [
    {
     "name": "stdout",
     "output_type": "stream",
     "text": [
      "palindrome\n"
     ]
    }
   ],
   "source": [
    "#Exercise 9: Check Palindrome Number\n",
    "#Write a program to check if the given number is a palindrome number.\n",
    "\n",
    "#A palindrome number is a number that is the same after reverse. For example, 545, is the palindrome numbers\n",
    "\n",
    "def is_palindrome(n):\n",
    "    orig=n\n",
    "    rev_num = 0\n",
    "    while n > 0:\n",
    "        remind = n % 10\n",
    "        rev_num = (rev_num * 10) + remind\n",
    "        n = n // 10\n",
    "\n",
    "    if rev_num==orig:\n",
    "        print('palindrome')    \n",
    "    else:\n",
    "        print('Not palindrome')\n",
    "        \n",
    "is_palindrome(909)\n"
   ]
  },
  {
   "cell_type": "code",
   "execution_count": 39,
   "id": "7e622223",
   "metadata": {},
   "outputs": [
    {
     "name": "stdout",
     "output_type": "stream",
     "text": [
      "Not palindrome\n"
     ]
    }
   ],
   "source": [
    "is_palindrome(965)"
   ]
  },
  {
   "cell_type": "code",
   "execution_count": 42,
   "id": "859da7c3",
   "metadata": {},
   "outputs": [
    {
     "data": {
      "text/plain": [
       "[40, 25, 60, 35, 90]"
      ]
     },
     "execution_count": 42,
     "metadata": {},
     "output_type": "execute_result"
    }
   ],
   "source": [
    "#Exercise 10: Create a new list from two list using the following condition\n",
    "#Create a new list from two list using the following condition\n",
    "#Given two list of numbers, write a program to create a new list such that the new list should contain odd numbers from the first list and\n",
    "#->even numbers from the second list.\n",
    "list1 = [10, 20, 25, 30, 35]\n",
    "list2 = [40, 45, 60, 75, 90]\n",
    "new_list=[]\n",
    "for i in range(len(list1)):\n",
    "    if list1[i]%2!=0:\n",
    "        new_list.append(list1[i])\n",
    "    if list2[i]%2==0:\n",
    "        new_list.append(list2[i])\n",
    "        \n",
    "new_list        "
   ]
  },
  {
   "cell_type": "code",
   "execution_count": 44,
   "id": "be5c3309",
   "metadata": {},
   "outputs": [
    {
     "name": "stdout",
     "output_type": "stream",
     "text": [
      "6 3 5 7 "
     ]
    }
   ],
   "source": [
    "#Exercise 11: Write a Program to extract each digit from an integer in the reverse order.\n",
    "#For example, If the given int is 7536, the output shall be “6 3 5 7“, with a space separating the digits.\n",
    "\n",
    "num = 7536\n",
    "\n",
    "while num > 0:\n",
    "    dig = num % 10\n",
    "    num = num // 10\n",
    "    print(dig, end=\" \")"
   ]
  },
  {
   "cell_type": "code",
   "execution_count": 47,
   "id": "2950228e",
   "metadata": {},
   "outputs": [
    {
     "name": "stdout",
     "output_type": "stream",
     "text": [
      "Total tax to pay is 6000.0\n"
     ]
    }
   ],
   "source": [
    "#Exercise 12: Calculate income tax for the given income by adhering to the rules below\n",
    "#First $10,000\t0\n",
    "#Next $10,000\t10\n",
    "#The remaining\t20\n",
    "\n",
    "income = 45000\n",
    "tax = 0\n",
    "\n",
    "if income <= 10000:\n",
    "    tax = 0\n",
    "elif income <= 20000:\n",
    "    \n",
    "    x = income - 10000\n",
    "    tax = x * 10 / 100\n",
    "else:\n",
    "    tax = 0\n",
    "    tax = 10000 * 10 / 100\n",
    "    tax += (income - 20000) * 20 / 100\n",
    "\n",
    "print(\"Total tax to pay is\", tax)"
   ]
  },
  {
   "cell_type": "code",
   "execution_count": 55,
   "id": "8e230c48",
   "metadata": {},
   "outputs": [
    {
     "name": "stdout",
     "output_type": "stream",
     "text": [
      "1  1 2 3 4 5 6 7 8 9 10 \n",
      "2  2 4 6 8 10 12 14 16 18 20 \n",
      "3  3 6 9 12 15 18 21 24 27 30 \n",
      "4  4 8 12 16 20 24 28 32 36 40 \n",
      "5  5 10 15 20 25 30 35 40 45 50 \n",
      "6  6 12 18 24 30 36 42 48 54 60 \n",
      "7  7 14 21 28 35 42 49 56 63 70 \n",
      "8  8 16 24 32 40 48 56 64 72 80 \n",
      "9  9 18 27 36 45 54 63 72 81 90 \n",
      "10  10 20 30 40 50 60 70 80 90 100 \n"
     ]
    }
   ],
   "source": [
    "#Exercise 13: Print multiplication table from 1 to 10\n",
    "#Expected Output:\n",
    "\n",
    "#1  2 3 4 5 6 7 8 9 10 \t\t\n",
    "#2  4 6 8 10 12 14 16 18 20 \t\t\n",
    "#3  6 9 12 15 18 21 24 27 30 \t\t\n",
    "#4  8 12 16 20 24 28 32 36 40 \t\t\n",
    "#5  10 15 20 25 30 35 40 45 50 \t\t\n",
    "#6  12 18 24 30 36 42 48 54 60 \t\t\n",
    "#7  14 21 28 35 42 49 56 63 70 \t\t\n",
    "#8  16 24 32 40 48 56 64 72 80 \t\t\n",
    "#9  18 27 36 45 54 63 72 81 90 \t\t\n",
    "#10 20 30 40 50 60 70 80 90 100 \n",
    "\n",
    "\n",
    "for i in range(1,11):\n",
    "    print(i,end='  ')\n",
    "    for j in range(1,11):\n",
    "        print(i*j,end=' ')\n",
    "        \n",
    "    print()    "
   ]
  },
  {
   "cell_type": "code",
   "execution_count": 63,
   "id": "ffe90f08",
   "metadata": {},
   "outputs": [
    {
     "name": "stdout",
     "output_type": "stream",
     "text": [
      "* * * * *  \n",
      "* * * *  \n",
      "* * *  \n",
      "* *  \n",
      "*  \n",
      " \n"
     ]
    }
   ],
   "source": [
    "#Exercise 14: Print a downward Half-Pyramid Pattern of Star (asterisk)\n",
    "#* * * * *  \n",
    "#* * * *  \n",
    "#* * *  \n",
    "#* *  \n",
    "#*\n",
    "\n",
    "for i in range(6, 0, -1):\n",
    "    for j in range(0, i - 1):\n",
    "        print(\"*\", end=' ')\n",
    "    print(\" \")\n"
   ]
  },
  {
   "cell_type": "code",
   "execution_count": 68,
   "id": "0b4c250e",
   "metadata": {},
   "outputs": [
    {
     "name": "stdout",
     "output_type": "stream",
     "text": [
      "8\n",
      "625\n"
     ]
    }
   ],
   "source": [
    "#Exercise 15: Write a function called exponent(base, exp) that returns an int value of base raises to the power of exp.\n",
    "#Note here exp is a non-negative integer, and the base is an integer.\n",
    "\n",
    "\n",
    "def exponent(b,exp):\n",
    "    result=1\n",
    "    for i in range(exp):\n",
    "        \n",
    "        result*=b \n",
    "        \n",
    "    return result\n",
    "\n",
    "print(exponent(2,3))\n",
    "\n",
    "print(exponent(5,4))"
   ]
  },
  {
   "cell_type": "code",
   "execution_count": null,
   "id": "1e3ac4f6",
   "metadata": {},
   "outputs": [],
   "source": []
  }
 ],
 "metadata": {
  "kernelspec": {
   "display_name": "Python 3 (ipykernel)",
   "language": "python",
   "name": "python3"
  },
  "language_info": {
   "codemirror_mode": {
    "name": "ipython",
    "version": 3
   },
   "file_extension": ".py",
   "mimetype": "text/x-python",
   "name": "python",
   "nbconvert_exporter": "python",
   "pygments_lexer": "ipython3",
   "version": "3.9.13"
  }
 },
 "nbformat": 4,
 "nbformat_minor": 5
}
