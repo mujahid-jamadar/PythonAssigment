{
 "cells": [
  {
   "cell_type": "code",
   "execution_count": 1,
   "id": "337bd9c4",
   "metadata": {},
   "outputs": [],
   "source": [
    "#Q:what is Encapsulation\n",
    "#->Hiding the data\n",
    "#be we can implement these conceppt using _ underscore convention"
   ]
  },
  {
   "cell_type": "markdown",
   "id": "73582a9c",
   "metadata": {},
   "source": [
    "#Q.what is abstraction\n",
    "#displaying only essential information and hiding the details.\n",
    "A Normal class can be abstract class when it has least one abstract class\n",
    "class must be inherit ABC class\n",
    "ABC class is present in abc module\n",
    "ABC=Abstract Base class\n",
    "We have to must provide  implementation of abstarct method in child method\n",
    "Actucally is hide only structure"
   ]
  },
  {
   "cell_type": "markdown",
   "id": "f916bce6",
   "metadata": {},
   "source": [
    "#abstraction vs encasulation\n",
    "\n",
    "Focus:\n",
    "\n",
    "Abstraction: Focuses on hiding the complexity and providing a simplified view.\n",
    "Encapsulation: Focuses on bundling data and methods into a single unit and controlling access to them.\n",
    "\n",
    "Implementation:\n",
    "\n",
    "Abstraction: Often implemented using abstract classes and abstract methods.\n",
    "Encapsulation: Implemented using access specifiers and controlling access to attributes and methods.\n",
    "Goal:\n",
    "\n",
    "Abstraction: Provides a clear and simplified interface for users of a class.\n",
    "Encapsulation: Protects the internal details of a class and ensures controlled access."
   ]
  },
  {
   "cell_type": "code",
   "execution_count": 5,
   "id": "a7903a22",
   "metadata": {},
   "outputs": [
    {
     "name": "stdout",
     "output_type": "stream",
     "text": [
      "Area of Circle 78.5\n"
     ]
    }
   ],
   "source": [
    "#Example of abstarction\n",
    "\n",
    "from abc import ABC, abstractmethod\n",
    "\n",
    "class Shape(ABC): \n",
    "    @abstractmethod\n",
    "    def cal_area(self):\n",
    "        pass\n",
    "\n",
    "class Circle(Shape):  \n",
    "    def __init__(self, radius):\n",
    "        self.radius = radius\n",
    "\n",
    "    def cal_area(self):\n",
    "        return 3.14 * self.radius**2\n",
    "\n",
    "circle = Circle(5)\n",
    "\n",
    "\n",
    "print('Area of Circle', circle.cal_area())\n",
    "\n",
    "\n"
   ]
  },
  {
   "cell_type": "code",
   "execution_count": null,
   "id": "0aa35f96",
   "metadata": {},
   "outputs": [],
   "source": [
    "#What is ABC class\n",
    "#-In Python, the ABC class is part of the abc (Abstract Base Classes) module, and it stands for Abstract Base Class. \n",
    "#-Abstract base classes are used to define abstract classes and abstract methods, "
   ]
  }
 ],
 "metadata": {
  "kernelspec": {
   "display_name": "Python 3 (ipykernel)",
   "language": "python",
   "name": "python3"
  },
  "language_info": {
   "codemirror_mode": {
    "name": "ipython",
    "version": 3
   },
   "file_extension": ".py",
   "mimetype": "text/x-python",
   "name": "python",
   "nbconvert_exporter": "python",
   "pygments_lexer": "ipython3",
   "version": "3.9.13"
  }
 },
 "nbformat": 4,
 "nbformat_minor": 5
}
