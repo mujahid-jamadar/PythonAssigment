{
 "cells": [
  {
   "cell_type": "code",
   "execution_count": 1,
   "id": "ce561920",
   "metadata": {},
   "outputs": [
    {
     "data": {
      "text/plain": [
       "[11, 32, 54, 67, 78, 87, 89, 99]"
      ]
     },
     "execution_count": 1,
     "metadata": {},
     "output_type": "execute_result"
    }
   ],
   "source": [
    "# Assignment: use sorted over list,list of string,work on key,reverse\n",
    "x = [67,54,89,99,32,78,11,87]\n",
    "sorted(x)"
   ]
  },
  {
   "cell_type": "code",
   "execution_count": 4,
   "id": "e1bb96d2",
   "metadata": {},
   "outputs": [
    {
     "data": {
      "text/plain": [
       "[99, 89, 87, 78, 67, 54, 32, 11]"
      ]
     },
     "execution_count": 4,
     "metadata": {},
     "output_type": "execute_result"
    }
   ],
   "source": [
    "sorted(x,reverse=True)"
   ]
  },
  {
   "cell_type": "code",
   "execution_count": 5,
   "id": "9b507712",
   "metadata": {},
   "outputs": [
    {
     "data": {
      "text/plain": [
       "['Abdul Basit', 'Aftab', 'Ansar', 'Mujahid', 'salman', 'vaibhav']"
      ]
     },
     "execution_count": 5,
     "metadata": {},
     "output_type": "execute_result"
    }
   ],
   "source": [
    "y=['Mujahid','Aftab','Ansar','Abdul Basit','salman','vaibhav']\n",
    "sorted(y)"
   ]
  },
  {
   "cell_type": "code",
   "execution_count": 6,
   "id": "5731bd8f",
   "metadata": {},
   "outputs": [
    {
     "data": {
      "text/plain": [
       "['vaibhav', 'salman', 'Mujahid', 'Ansar', 'Aftab', 'Abdul Basit']"
      ]
     },
     "execution_count": 6,
     "metadata": {},
     "output_type": "execute_result"
    }
   ],
   "source": [
    "sorted(y,reverse=True)"
   ]
  },
  {
   "cell_type": "code",
   "execution_count": 7,
   "id": "a859b18a",
   "metadata": {},
   "outputs": [
    {
     "data": {
      "text/plain": [
       "['Aftab', 'Ansar', 'salman', 'Mujahid', 'vaibhav', 'Abdul Basit']"
      ]
     },
     "execution_count": 7,
     "metadata": {},
     "output_type": "execute_result"
    }
   ],
   "source": [
    "sorted(y,key=len)"
   ]
  },
  {
   "cell_type": "code",
   "execution_count": 8,
   "id": "a06b0e07",
   "metadata": {},
   "outputs": [
    {
     "data": {
      "text/plain": [
       "['Abdul Basit', 'Mujahid', 'vaibhav', 'salman', 'Aftab', 'Ansar']"
      ]
     },
     "execution_count": 8,
     "metadata": {},
     "output_type": "execute_result"
    }
   ],
   "source": [
    "sorted(y,key=len,reverse=True)"
   ]
  },
  {
   "cell_type": "code",
   "execution_count": null,
   "id": "92cf827a",
   "metadata": {},
   "outputs": [],
   "source": [
    "# sort vs sorted\n",
    "#1.->sort function returns nothing and makes changes to the original sequence\n",
    "#   ->while the sorted () function creates a new sequence type containing a sorted version of the given sequence\n",
    "#2.->The sort() method sorts the list.while The sorted() function returns a sorted list of the specific iterable object."
   ]
  },
  {
   "cell_type": "code",
   "execution_count": 12,
   "id": "17e84082",
   "metadata": {},
   "outputs": [
    {
     "data": {
      "text/plain": [
       "[67, 54, 89, 99, 32, 78, 11, 87]"
      ]
     },
     "execution_count": 12,
     "metadata": {},
     "output_type": "execute_result"
    }
   ],
   "source": [
    "#Apply reverse on list, list of string\n",
    "x"
   ]
  },
  {
   "cell_type": "code",
   "execution_count": 13,
   "id": "9218ee9f",
   "metadata": {},
   "outputs": [
    {
     "data": {
      "text/plain": [
       "<list_reverseiterator at 0x2599e2afbe0>"
      ]
     },
     "execution_count": 13,
     "metadata": {},
     "output_type": "execute_result"
    }
   ],
   "source": [
    "reversed(x)"
   ]
  },
  {
   "cell_type": "code",
   "execution_count": 15,
   "id": "06b2378b",
   "metadata": {},
   "outputs": [
    {
     "data": {
      "text/plain": [
       "[87, 11, 78, 32, 99, 89, 54, 67]"
      ]
     },
     "execution_count": 15,
     "metadata": {},
     "output_type": "execute_result"
    }
   ],
   "source": [
    "# to see value perform typecating \n",
    "list(reversed(x))"
   ]
  },
  {
   "cell_type": "code",
   "execution_count": 16,
   "id": "3c9fd93d",
   "metadata": {},
   "outputs": [
    {
     "data": {
      "text/plain": [
       "['Mujahid', 'Aftab', 'Ansar', 'Abdul Basit', 'salman', 'vaibhav']"
      ]
     },
     "execution_count": 16,
     "metadata": {},
     "output_type": "execute_result"
    }
   ],
   "source": [
    "y"
   ]
  },
  {
   "cell_type": "code",
   "execution_count": 17,
   "id": "61f7f71e",
   "metadata": {},
   "outputs": [
    {
     "data": {
      "text/plain": [
       "['vaibhav', 'salman', 'Abdul Basit', 'Ansar', 'Aftab', 'Mujahid']"
      ]
     },
     "execution_count": 17,
     "metadata": {},
     "output_type": "execute_result"
    }
   ],
   "source": [
    "list(reversed(y))"
   ]
  },
  {
   "cell_type": "code",
   "execution_count": 18,
   "id": "ae413d46",
   "metadata": {},
   "outputs": [
    {
     "name": "stdout",
     "output_type": "stream",
     "text": [
      "Enter the set{1,2,3,4,6,3,7,8,9}\n"
     ]
    }
   ],
   "source": [
    "#Assignment: tk input set,tuple from user\n",
    "#1.set\n",
    "x=eval(input(\"Enter the set\"))"
   ]
  },
  {
   "cell_type": "code",
   "execution_count": 19,
   "id": "e64b2d63",
   "metadata": {},
   "outputs": [
    {
     "data": {
      "text/plain": [
       "{1, 2, 3, 4, 6, 7, 8, 9}"
      ]
     },
     "execution_count": 19,
     "metadata": {},
     "output_type": "execute_result"
    }
   ],
   "source": [
    "x"
   ]
  },
  {
   "cell_type": "code",
   "execution_count": 20,
   "id": "97c3b02a",
   "metadata": {},
   "outputs": [
    {
     "data": {
      "text/plain": [
       "set"
      ]
     },
     "execution_count": 20,
     "metadata": {},
     "output_type": "execute_result"
    }
   ],
   "source": [
    "type(x)"
   ]
  },
  {
   "cell_type": "code",
   "execution_count": 21,
   "id": "30559033",
   "metadata": {},
   "outputs": [
    {
     "name": "stdout",
     "output_type": "stream",
     "text": [
      "Enter the Tuple(88,76,45,99,76,90)\n"
     ]
    }
   ],
   "source": [
    "#2.Tuple\n",
    "y=eval(input(\"Enter the Tuple\"))"
   ]
  },
  {
   "cell_type": "code",
   "execution_count": 22,
   "id": "ac159fa2",
   "metadata": {},
   "outputs": [
    {
     "data": {
      "text/plain": [
       "(88, 76, 45, 99, 76, 90)"
      ]
     },
     "execution_count": 22,
     "metadata": {},
     "output_type": "execute_result"
    }
   ],
   "source": [
    "y"
   ]
  },
  {
   "cell_type": "code",
   "execution_count": 23,
   "id": "6820114a",
   "metadata": {},
   "outputs": [
    {
     "data": {
      "text/plain": [
       "tuple"
      ]
     },
     "execution_count": 23,
     "metadata": {},
     "output_type": "execute_result"
    }
   ],
   "source": [
    "type(y)"
   ]
  },
  {
   "cell_type": "code",
   "execution_count": null,
   "id": "52f3373b",
   "metadata": {},
   "outputs": [],
   "source": []
  },
  {
   "cell_type": "code",
   "execution_count": null,
   "id": "ad13112c",
   "metadata": {},
   "outputs": [],
   "source": []
  }
 ],
 "metadata": {
  "kernelspec": {
   "display_name": "Python 3 (ipykernel)",
   "language": "python",
   "name": "python3"
  },
  "language_info": {
   "codemirror_mode": {
    "name": "ipython",
    "version": 3
   },
   "file_extension": ".py",
   "mimetype": "text/x-python",
   "name": "python",
   "nbconvert_exporter": "python",
   "pygments_lexer": "ipython3",
   "version": "3.9.13"
  }
 },
 "nbformat": 4,
 "nbformat_minor": 5
}
