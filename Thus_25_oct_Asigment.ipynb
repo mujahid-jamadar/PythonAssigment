{
 "cells": [
  {
   "cell_type": "code",
   "execution_count": 15,
   "id": "54929310",
   "metadata": {},
   "outputs": [],
   "source": [
    "#apply for reamining data sturture\n",
    "#string,tuple,range,dict,set,fronzen set\n",
    "\n",
    "# solve three example with if if else if else if \n",
    "# print below pattern \n",
    "AAAA\n",
    "BBB\n",
    "cc\n",
    "d\n",
    "\n",
    "ABCDE\n",
    "ABCD\n",
    "ABC\n",
    "AB\n",
    "A\n",
    "\n",
    "\n",
    "\n",
    "\n",
    "\n",
    "\n",
    "\n",
    "A\n",
    "AB\n",
    "ABC\n",
    "ABCD\n",
    "ABCDE"
   ]
  },
  {
   "cell_type": "code",
   "execution_count": 2,
   "id": "faaeefff",
   "metadata": {},
   "outputs": [
    {
     "name": "stdout",
     "output_type": "stream",
     "text": [
      "pune\n",
      "Goa\n",
      "mumbai\n",
      "kolhapur\n"
     ]
    }
   ],
   "source": [
    "1.tuple\n",
    "t=('pune','Goa','mumbai','kolhapur')\n",
    "for city in t:\n",
    "    print(city)"
   ]
  },
  {
   "cell_type": "code",
   "execution_count": 37,
   "id": "e8c6d7d4",
   "metadata": {},
   "outputs": [
    {
     "name": "stdout",
     "output_type": "stream",
     "text": [
      "Mujahid Jamadar"
     ]
    }
   ],
   "source": [
    "#2.stirng\n",
    "name='Mujahid Jamadar'\n",
    "for i in name:\n",
    "    print(i,end='')"
   ]
  },
  {
   "cell_type": "code",
   "execution_count": 9,
   "id": "2b98f192",
   "metadata": {},
   "outputs": [
    {
     "name": "stdout",
     "output_type": "stream",
     "text": [
      "1\n",
      "2\n",
      "34\n",
      "4\n",
      "5\n",
      "6\n",
      "7\n",
      "8\n",
      "9\n"
     ]
    }
   ],
   "source": [
    "#3.set\n",
    "s={1,2,2,5,6,7,8,7,9,5,4,34,7,8,9}\n",
    "for i in s:\n",
    "    print(i)"
   ]
  },
  {
   "cell_type": "code",
   "execution_count": 10,
   "id": "f53ac815",
   "metadata": {},
   "outputs": [
    {
     "data": {
      "text/plain": [
       "frozenset"
      ]
     },
     "execution_count": 10,
     "metadata": {},
     "output_type": "execute_result"
    }
   ],
   "source": [
    "f_set = frozenset(s)\n",
    "type(f_set)"
   ]
  },
  {
   "cell_type": "code",
   "execution_count": 11,
   "id": "daa53c77",
   "metadata": {},
   "outputs": [
    {
     "name": "stdout",
     "output_type": "stream",
     "text": [
      "1\n",
      "2\n",
      "34\n",
      "4\n",
      "5\n",
      "6\n",
      "7\n",
      "8\n",
      "9\n"
     ]
    }
   ],
   "source": [
    "#3.frozenset\n",
    "for i in f_set:\n",
    "    print(i)"
   ]
  },
  {
   "cell_type": "code",
   "execution_count": 14,
   "id": "037a75f0",
   "metadata": {},
   "outputs": [
    {
     "name": "stdout",
     "output_type": "stream",
     "text": [
      "name : Mujahid\n",
      "age : 23\n",
      "place : Mangaon\n"
     ]
    }
   ],
   "source": [
    "#4.Dict\n",
    "d={'name':'Mujahid','age':23,'place':'Mangaon'}\n",
    "for i in d:\n",
    "    print(i,':',d[i])"
   ]
  },
  {
   "cell_type": "code",
   "execution_count": 17,
   "id": "680e407f",
   "metadata": {},
   "outputs": [
    {
     "name": "stdout",
     "output_type": "stream",
     "text": [
      "9\n",
      "7\n",
      "6\n",
      "82\n"
     ]
    }
   ],
   "source": [
    "# solve three example with if if else if else if\n",
    "\n",
    "#1.\n",
    "s=[1,9,3,5,7,6,82,1,3,4]\n",
    "#PS.Number greater than 5\n",
    "for i in s:\n",
    "    if i>5:\n",
    "        print(i)"
   ]
  },
  {
   "cell_type": "code",
   "execution_count": 20,
   "id": "f0f7cc26",
   "metadata": {},
   "outputs": [
    {
     "name": "stdout",
     "output_type": "stream",
     "text": [
      "40 Pass\n",
      "90 Pass\n",
      "78 Pass\n",
      "35 Fail\n",
      "88 Pass\n",
      "20 Fail\n",
      "70 Pass\n"
     ]
    }
   ],
   "source": [
    "#2.pass and fail\n",
    "x=[40,90,78,35,88,20,70]\n",
    "for i in x:\n",
    "    if i>=40:\n",
    "        print(i,'Pass')\n",
    "    else:\n",
    "        print(i,'Fail')"
   ]
  },
  {
   "cell_type": "code",
   "execution_count": 21,
   "id": "91ddb01d",
   "metadata": {},
   "outputs": [
    {
     "name": "stdout",
     "output_type": "stream",
     "text": [
      "mujahid Average\n",
      "Ansar Excellent\n",
      "Basit Good\n",
      "Aftab Good\n",
      "Salman Average\n"
     ]
    }
   ],
   "source": [
    "#3.Grade of studnet\n",
    "d={'mujahid':60,'Ansar':92,'Basit':78,'Aftab':85,'Salman':66}\n",
    "for i in d:\n",
    "    if d[i]>90:\n",
    "        print(i,'Excellent')\n",
    "    elif d[i]>75:\n",
    "        print(i,'Good')\n",
    "        \n",
    "    else:\n",
    "        print(i,'Average')\n",
    "        \n",
    "        "
   ]
  },
  {
   "cell_type": "code",
   "execution_count": 25,
   "id": "1fca5e2a",
   "metadata": {},
   "outputs": [
    {
     "name": "stdout",
     "output_type": "stream",
     "text": [
      "AAAA\n",
      "BBB\n",
      "CC\n",
      "D\n"
     ]
    }
   ],
   "source": [
    "# print below pattern \n",
    "#AAAA\n",
    "#BBB\n",
    "#CC\n",
    "#D\n",
    "a=65\n",
    "for i in range(4,0,-1):\n",
    "    print(chr(a)*i)\n",
    "    a=a+1\n",
    "    "
   ]
  },
  {
   "cell_type": "code",
   "execution_count": 42,
   "id": "0d59aea4",
   "metadata": {},
   "outputs": [
    {
     "name": "stdout",
     "output_type": "stream",
     "text": [
      "ABCDE\n",
      "\n",
      "ABCD\n",
      "\n",
      "ABC\n",
      "\n",
      "AB\n",
      "\n",
      "A\n",
      "\n"
     ]
    }
   ],
   "source": [
    "# print below pattern \n",
    "#ABCDE\n",
    "#ABCD\n",
    "#ABC\n",
    "#AB\n",
    "#A\n",
    "\n",
    "for i in range(5,0,-1):\n",
    "   \n",
    "    for x in range(65,65+i):\n",
    "        print(chr(x),end='')\n",
    "       \n",
    "    print('\\n')    "
   ]
  },
  {
   "cell_type": "code",
   "execution_count": 43,
   "id": "455ba2d7",
   "metadata": {},
   "outputs": [
    {
     "name": "stdout",
     "output_type": "stream",
     "text": [
      "A\n",
      "\n",
      "AB\n",
      "\n",
      "ABC\n",
      "\n",
      "ABCD\n",
      "\n",
      "ABCDE\n",
      "\n"
     ]
    }
   ],
   "source": [
    "# print below pattern \n",
    "#A\n",
    "#AB\n",
    "#ABC\n",
    "#ABCD\n",
    "#ABCDE\n",
    "for i in range(1,6):\n",
    "    \n",
    "    for x in range(65,65+i):\n",
    "        print(chr(x),end='')\n",
    "        x\n",
    "    print('\\n')   "
   ]
  },
  {
   "cell_type": "code",
   "execution_count": null,
   "id": "eca1bd57",
   "metadata": {},
   "outputs": [],
   "source": []
  }
 ],
 "metadata": {
  "kernelspec": {
   "display_name": "Python 3 (ipykernel)",
   "language": "python",
   "name": "python3"
  },
  "language_info": {
   "codemirror_mode": {
    "name": "ipython",
    "version": 3
   },
   "file_extension": ".py",
   "mimetype": "text/x-python",
   "name": "python",
   "nbconvert_exporter": "python",
   "pygments_lexer": "ipython3",
   "version": "3.9.13"
  }
 },
 "nbformat": 4,
 "nbformat_minor": 5
}
