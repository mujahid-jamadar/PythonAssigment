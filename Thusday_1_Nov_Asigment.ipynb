{
 "cells": [
  {
   "cell_type": "code",
   "execution_count": 1,
   "id": "e8725d70",
   "metadata": {},
   "outputs": [],
   "source": [
    "#check all program u performed on if else elif using funtion\n",
    "#1.Pass/Fail\n",
    "\n",
    "def result(marks):\n",
    "    if marks>=40:\n",
    "        print(marks,'Pass')\n",
    "    else:\n",
    "        print(marks,'Fail')"
   ]
  },
  {
   "cell_type": "code",
   "execution_count": 2,
   "id": "1ad88cd3",
   "metadata": {},
   "outputs": [
    {
     "name": "stdout",
     "output_type": "stream",
     "text": [
      "80 Pass\n"
     ]
    }
   ],
   "source": [
    "result(80)"
   ]
  },
  {
   "cell_type": "code",
   "execution_count": 4,
   "id": "62bc1fea",
   "metadata": {},
   "outputs": [
    {
     "name": "stdout",
     "output_type": "stream",
     "text": [
      "35 Fail\n"
     ]
    }
   ],
   "source": [
    "result(35)"
   ]
  },
  {
   "cell_type": "code",
   "execution_count": 5,
   "id": "45913be7",
   "metadata": {},
   "outputs": [],
   "source": [
    "#2.Grade of student\n",
    "\n",
    "def Grade(marks):\n",
    "    if marks>90:\n",
    "        print(marks,'Excellent')\n",
    "    elif marks>75:\n",
    "        print(marks,'Good')\n",
    "        \n",
    "    else:\n",
    "        print(marks,'Average')"
   ]
  },
  {
   "cell_type": "code",
   "execution_count": 6,
   "id": "aa137653",
   "metadata": {},
   "outputs": [
    {
     "name": "stdout",
     "output_type": "stream",
     "text": [
      "92 Excellent\n"
     ]
    }
   ],
   "source": [
    "Grade(92)"
   ]
  },
  {
   "cell_type": "code",
   "execution_count": 7,
   "id": "d2e52424",
   "metadata": {},
   "outputs": [
    {
     "name": "stdout",
     "output_type": "stream",
     "text": [
      "79 Good\n"
     ]
    }
   ],
   "source": [
    "Grade(79)"
   ]
  },
  {
   "cell_type": "code",
   "execution_count": 8,
   "id": "174a81ee",
   "metadata": {},
   "outputs": [
    {
     "name": "stdout",
     "output_type": "stream",
     "text": [
      "66 Average\n"
     ]
    }
   ],
   "source": [
    "Grade(66)"
   ]
  },
  {
   "cell_type": "code",
   "execution_count": 9,
   "id": "702c98d2",
   "metadata": {},
   "outputs": [],
   "source": [
    "def checK_odd_even(num):\n",
    "    if num%2==0:\n",
    "        print(num, ' Even')\n",
    "    else:\n",
    "        print(num, ' Odd')"
   ]
  },
  {
   "cell_type": "code",
   "execution_count": 10,
   "id": "6a53cee8",
   "metadata": {},
   "outputs": [
    {
     "name": "stdout",
     "output_type": "stream",
     "text": [
      "8  Even\n"
     ]
    }
   ],
   "source": [
    "checK_odd_even"
   ]
  },
  {
   "cell_type": "code",
   "execution_count": 11,
   "id": "79d0cd1e",
   "metadata": {},
   "outputs": [
    {
     "name": "stdout",
     "output_type": "stream",
     "text": [
      "99  Odd\n"
     ]
    }
   ],
   "source": [
    "checK_odd_even(99)"
   ]
  },
  {
   "cell_type": "code",
   "execution_count": 22,
   "id": "eb555b84",
   "metadata": {},
   "outputs": [],
   "source": [
    "#funtion  to check for aplphabet and convert to Upper to convertion if not print  \"needed to check other option\"\n",
    "def check_alpha(s):\n",
    "    if s.isalpha():\n",
    "        print(s.upper())\n",
    "    else:\n",
    "        print(\"needed to check other option\")\n",
    "    "
   ]
  },
  {
   "cell_type": "code",
   "execution_count": 23,
   "id": "17c6e58b",
   "metadata": {},
   "outputs": [
    {
     "name": "stdout",
     "output_type": "stream",
     "text": [
      "Enter th stringmujahid\n",
      "MUJAHID\n"
     ]
    }
   ],
   "source": [
    "s=input('Enter th string')\n",
    "check_alpha(s)  "
   ]
  },
  {
   "cell_type": "code",
   "execution_count": 24,
   "id": "6ea1a340",
   "metadata": {},
   "outputs": [
    {
     "name": "stdout",
     "output_type": "stream",
     "text": [
      "Enter th stringpock125325\n",
      "needed to check other option\n"
     ]
    }
   ],
   "source": [
    "s=input('Enter th string')\n",
    "check_alpha(s)  "
   ]
  },
  {
   "cell_type": "code",
   "execution_count": 26,
   "id": "a5f0a144",
   "metadata": {},
   "outputs": [
    {
     "data": {
      "text/plain": [
       "[2, 4, 6]"
      ]
     },
     "execution_count": 26,
     "metadata": {},
     "output_type": "execute_result"
    }
   ],
   "source": [
    "#Solve 5 funtion for return \n",
    "#1.get even number from list\n",
    "def get_even(numbers):\n",
    "    \n",
    "    even_nums = [num for num in numbers if num % 2==0]\n",
    "    return even_nums\n",
    "\n",
    "\n",
    "get_even([1, 2, 3, 4, 5, 6])"
   ]
  },
  {
   "cell_type": "code",
   "execution_count": 40,
   "id": "5d69a3e3",
   "metadata": {},
   "outputs": [
    {
     "data": {
      "text/plain": [
       "[1, 3, 5]"
      ]
     },
     "execution_count": 40,
     "metadata": {},
     "output_type": "execute_result"
    }
   ],
   "source": [
    "#2.get odd number from list\n",
    "def get_odd(numbers):\n",
    "    \n",
    "    odd_nums = [num for num in numbers if num % 2!=0]\n",
    "    return odd_nums\n",
    "\n",
    "\n",
    "get_odd([1, 2, 3, 4, 5, 6])"
   ]
  },
  {
   "cell_type": "code",
   "execution_count": 41,
   "id": "4c019b1f",
   "metadata": {},
   "outputs": [
    {
     "data": {
      "text/plain": [
       "6.5"
      ]
     },
     "execution_count": 41,
     "metadata": {},
     "output_type": "execute_result"
    }
   ],
   "source": [
    "#3.get avgr from list\n",
    "\n",
    "def avg(num):\n",
    "    return sum(num)/len(num)\n",
    "\n",
    "avg([4,5,6,7,8,9])"
   ]
  },
  {
   "cell_type": "code",
   "execution_count": 42,
   "id": "3b94e0b3",
   "metadata": {},
   "outputs": [],
   "source": [
    "#4.return max number\n",
    "def max_number(numbers):\n",
    "    result = 0\n",
    "    for n in numbers:\n",
    "        if n > result:\n",
    "            result = n\n",
    "    return result"
   ]
  },
  {
   "cell_type": "code",
   "execution_count": 33,
   "id": "2164b1e3",
   "metadata": {},
   "outputs": [
    {
     "data": {
      "text/plain": [
       "87"
      ]
     },
     "execution_count": 33,
     "metadata": {},
     "output_type": "execute_result"
    }
   ],
   "source": [
    "max_number([66,75,34,21,87,31,76])"
   ]
  },
  {
   "cell_type": "code",
   "execution_count": 50,
   "id": "a3dd1b4c",
   "metadata": {},
   "outputs": [],
   "source": [
    "#5.Return the odd and even number list from 10 -100\n",
    "def checK_odd_even(num):\n",
    "    odd=[]\n",
    "    even=[]\n",
    "    for i in num: \n",
    "        if i%2==0:\n",
    "            even.append(i)\n",
    "        else:\n",
    "            odd.append(i)\n",
    "    return odd,even"
   ]
  },
  {
   "cell_type": "code",
   "execution_count": 52,
   "id": "55304d08",
   "metadata": {},
   "outputs": [],
   "source": [
    " odd,even=(checK_odd_even(range(10,101)))"
   ]
  },
  {
   "cell_type": "code",
   "execution_count": 54,
   "id": "bfc593c6",
   "metadata": {},
   "outputs": [
    {
     "name": "stdout",
     "output_type": "stream",
     "text": [
      "[11, 13, 15, 17, 19, 21, 23, 25, 27, 29, 31, 33, 35, 37, 39, 41, 43, 45, 47, 49, 51, 53, 55, 57, 59, 61, 63, 65, 67, 69, 71, 73, 75, 77, 79, 81, 83, 85, 87, 89, 91, 93, 95, 97, 99]"
     ]
    }
   ],
   "source": [
    "print(odd,end='')"
   ]
  },
  {
   "cell_type": "code",
   "execution_count": 55,
   "id": "14746178",
   "metadata": {},
   "outputs": [
    {
     "name": "stdout",
     "output_type": "stream",
     "text": [
      "[10, 12, 14, 16, 18, 20, 22, 24, 26, 28, 30, 32, 34, 36, 38, 40, 42, 44, 46, 48, 50, 52, 54, 56, 58, 60, 62, 64, 66, 68, 70, 72, 74, 76, 78, 80, 82, 84, 86, 88, 90, 92, 94, 96, 98, 100]"
     ]
    }
   ],
   "source": [
    "print(even,end='')"
   ]
  },
  {
   "cell_type": "code",
   "execution_count": null,
   "id": "e2e3672e",
   "metadata": {},
   "outputs": [],
   "source": []
  }
 ],
 "metadata": {
  "kernelspec": {
   "display_name": "Python 3 (ipykernel)",
   "language": "python",
   "name": "python3"
  },
  "language_info": {
   "codemirror_mode": {
    "name": "ipython",
    "version": 3
   },
   "file_extension": ".py",
   "mimetype": "text/x-python",
   "name": "python",
   "nbconvert_exporter": "python",
   "pygments_lexer": "ipython3",
   "version": "3.9.13"
  }
 },
 "nbformat": 4,
 "nbformat_minor": 5
}
