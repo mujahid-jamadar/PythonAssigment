{
 "cells": [
  {
   "cell_type": "code",
   "execution_count": null,
   "id": "3ceb6543",
   "metadata": {},
   "outputs": [],
   "source": [
    "#What is positional ,keyword,default,var len ags\n",
    "#positional vs keyword\n",
    "#what is *args and **kwargs\n",
    "#solve 2 example for each *args and **kwargs"
   ]
  },
  {
   "cell_type": "code",
   "execution_count": null,
   "id": "107fc7c0",
   "metadata": {},
   "outputs": [],
   "source": [
    "#Q.1What is positional ,keyword,default,var len ags\n",
    "\n",
    "#1.positional:\n",
    "    #->During a function call, values passed through arguments should be in the order of parameters in the, \n",
    "    #function definition. This is called positional arguments.\n",
    "    \n",
    "#2.keyword:\n",
    "    #->we have assigned args names to arguments during the function call.\n",
    "    \n",
    "#3.default:\n",
    "    #->Such parameters are optional during a function call. If no argument is provided, \n",
    "    #the default value is used, and if an argument is provided, it will overwrite the default value.\n",
    "    \n",
    "#4.variable-length:\n",
    "    #->A variable-length argument is a feature that allows a function to receive any number of arguments.\n",
    "    \n",
    "    "
   ]
  },
  {
   "cell_type": "code",
   "execution_count": null,
   "id": "1a5ee71e",
   "metadata": {},
   "outputs": [],
   "source": [
    "#Q.2positional vs keyword:\n",
    "    #->Positional arguments must be included in the correct order. \n",
    "    #Keyword arguments are included with a keyword and equals sign and order is not matter."
   ]
  },
  {
   "cell_type": "code",
   "execution_count": null,
   "id": "b398f0d6",
   "metadata": {},
   "outputs": [],
   "source": [
    "#Q.3 what is *args and **kwargs:\n",
    "    #->*args:\n",
    "        #->args is used to pass a variable number of positional arguments to a function. \n",
    "          #When a function definition includes *args, any number of additional arguments can be passed to the function \n",
    "          #when it is called. The *args syntax collects these additional arguments into a tuple, \n",
    "          #which can then be used inside the function.\n",
    "            \n",
    "    #->**kwargs:\n",
    "        #->**kwargs is used to pass a variable number of keyword arguments to a function. \n",
    "            #When a function definition includes **kwargs, any number of additional keyword arguments can be \n",
    "            #passed to the function when it is called. The **kwargs syntax collects these \n",
    "            #additional arguments into a dictionary, which can then be used inside the function."
   ]
  },
  {
   "cell_type": "code",
   "execution_count": 2,
   "id": "80216f4e",
   "metadata": {},
   "outputs": [
    {
     "name": "stdout",
     "output_type": "stream",
     "text": [
      "31\n"
     ]
    }
   ],
   "source": [
    "#solve 2 example for each *args and **kwargs\n",
    "#1.*args:\n",
    "def sum(*args):\n",
    "    sum=0\n",
    "    for i in args:\n",
    "        sum+=i\n",
    "    print(sum) \n",
    "    \n",
    "sum(4,5,6,7,9)    "
   ]
  },
  {
   "cell_type": "code",
   "execution_count": 16,
   "id": "3b41df70",
   "metadata": {},
   "outputs": [
    {
     "name": "stdout",
     "output_type": "stream",
     "text": [
      "Hi my name is mujahid "
     ]
    }
   ],
   "source": [
    "#2.*args:\n",
    "def Test(*args):\n",
    "    for i in args:\n",
    "        print(i,end=' ')\n",
    "\n",
    "Test('Hi' ,'my' ,'name','is' ,'mujahid')        "
   ]
  },
  {
   "cell_type": "code",
   "execution_count": 11,
   "id": "aed1f965",
   "metadata": {},
   "outputs": [
    {
     "name": "stdout",
     "output_type": "stream",
     "text": [
      "{'apple': 4, 'mango': 3, 'banana': 7}\n"
     ]
    }
   ],
   "source": [
    "#1.**kwargs\n",
    "def fruits(**kwargs):\n",
    "    print(kwargs)\n",
    "fruits(apple=4,mango=3,banana=7)"
   ]
  },
  {
   "cell_type": "code",
   "execution_count": 12,
   "id": "0d330672",
   "metadata": {},
   "outputs": [
    {
     "name": "stdout",
     "output_type": "stream",
     "text": [
      "firstname  is Mujahid\n",
      "lastname  is jamadar\n",
      "Age  is 23\n"
     ]
    }
   ],
   "source": [
    "#2.**kwargs\n",
    "def info(**kwargs):\n",
    "    for key ,value in kwargs.items():\n",
    "        print(key, ' is', value)\n",
    "        \n",
    "info(firstname='Mujahid',lastname=\"jamadar\",Age=23)"
   ]
  },
  {
   "cell_type": "code",
   "execution_count": null,
   "id": "9e503db2",
   "metadata": {},
   "outputs": [],
   "source": []
  }
 ],
 "metadata": {
  "kernelspec": {
   "display_name": "Python 3 (ipykernel)",
   "language": "python",
   "name": "python3"
  },
  "language_info": {
   "codemirror_mode": {
    "name": "ipython",
    "version": 3
   },
   "file_extension": ".py",
   "mimetype": "text/x-python",
   "name": "python",
   "nbconvert_exporter": "python",
   "pygments_lexer": "ipython3",
   "version": "3.9.13"
  }
 },
 "nbformat": 4,
 "nbformat_minor": 5
}
