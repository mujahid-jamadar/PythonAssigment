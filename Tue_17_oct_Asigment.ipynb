{
 "cells": [
  {
   "cell_type": "code",
   "execution_count": null,
   "id": "3406b68d",
   "metadata": {},
   "outputs": [],
   "source": [
    "# clear and copy method\n",
    "\n",
    "#pop   vs popitem\n",
    "\n",
    "#Create a Dict with 5 key value apply all the method\n",
    "# having to list x=[1,2,3] y=[5,6,7] create dict \n",
    "# answer {1:5,2:6,3:7}"
   ]
  },
  {
   "cell_type": "code",
   "execution_count": 1,
   "id": "95f29bd9",
   "metadata": {},
   "outputs": [
    {
     "data": {
      "text/plain": [
       "{1: 10, 2: 20, 3: 30}"
      ]
     },
     "execution_count": 1,
     "metadata": {},
     "output_type": "execute_result"
    }
   ],
   "source": [
    "a={1:10,2:20,3:30}\n",
    "b=a.copy()\n",
    "b"
   ]
  },
  {
   "cell_type": "code",
   "execution_count": 4,
   "id": "ccc5db6f",
   "metadata": {},
   "outputs": [
    {
     "data": {
      "text/plain": [
       "1284654000576"
      ]
     },
     "execution_count": 4,
     "metadata": {},
     "output_type": "execute_result"
    }
   ],
   "source": [
    "id(b)"
   ]
  },
  {
   "cell_type": "code",
   "execution_count": 5,
   "id": "66ae1324",
   "metadata": {},
   "outputs": [
    {
     "data": {
      "text/plain": [
       "1284654001408"
      ]
     },
     "execution_count": 5,
     "metadata": {},
     "output_type": "execute_result"
    }
   ],
   "source": [
    "id(a)"
   ]
  },
  {
   "cell_type": "code",
   "execution_count": 6,
   "id": "6a407ee3",
   "metadata": {},
   "outputs": [],
   "source": [
    "# id of a and b are diffrent hence copy is shallow "
   ]
  },
  {
   "cell_type": "code",
   "execution_count": 8,
   "id": "bc22c181",
   "metadata": {},
   "outputs": [
    {
     "data": {
      "text/plain": [
       "10"
      ]
     },
     "execution_count": 8,
     "metadata": {},
     "output_type": "execute_result"
    }
   ],
   "source": [
    "#pop   vs popitem\n",
    "b.pop(1)   # key is given and return value and remove item "
   ]
  },
  {
   "cell_type": "code",
   "execution_count": 9,
   "id": "490b8707",
   "metadata": {},
   "outputs": [
    {
     "data": {
      "text/plain": [
       "{2: 20, 3: 30}"
      ]
     },
     "execution_count": 9,
     "metadata": {},
     "output_type": "execute_result"
    }
   ],
   "source": [
    "b"
   ]
  },
  {
   "cell_type": "code",
   "execution_count": 10,
   "id": "6fa42188",
   "metadata": {},
   "outputs": [
    {
     "ename": "KeyError",
     "evalue": "5",
     "output_type": "error",
     "traceback": [
      "\u001b[1;31m---------------------------------------------------------------------------\u001b[0m",
      "\u001b[1;31mKeyError\u001b[0m                                  Traceback (most recent call last)",
      "\u001b[1;32m~\\AppData\\Local\\Temp\\ipykernel_10564\\160262020.py\u001b[0m in \u001b[0;36m<module>\u001b[1;34m\u001b[0m\n\u001b[0;32m      1\u001b[0m \u001b[1;31m# if key not present raise error\u001b[0m\u001b[1;33m\u001b[0m\u001b[1;33m\u001b[0m\u001b[0m\n\u001b[1;32m----> 2\u001b[1;33m \u001b[0mb\u001b[0m\u001b[1;33m.\u001b[0m\u001b[0mpop\u001b[0m\u001b[1;33m(\u001b[0m\u001b[1;36m5\u001b[0m\u001b[1;33m)\u001b[0m\u001b[1;33m\u001b[0m\u001b[1;33m\u001b[0m\u001b[0m\n\u001b[0m",
      "\u001b[1;31mKeyError\u001b[0m: 5"
     ]
    }
   ],
   "source": [
    "# if key not present raise error\n",
    "b.pop(5)"
   ]
  },
  {
   "cell_type": "code",
   "execution_count": 11,
   "id": "4bc94a72",
   "metadata": {},
   "outputs": [
    {
     "data": {
      "text/plain": [
       "(3, 30)"
      ]
     },
     "execution_count": 11,
     "metadata": {},
     "output_type": "execute_result"
    }
   ],
   "source": [
    "#popitem\n",
    "#remove any key values pair from dict and return key value pair .\n",
    "a.popitem()"
   ]
  },
  {
   "cell_type": "code",
   "execution_count": 12,
   "id": "a6aa072b",
   "metadata": {},
   "outputs": [
    {
     "data": {
      "text/plain": [
       "{1: 10, 2: 20}"
      ]
     },
     "execution_count": 12,
     "metadata": {},
     "output_type": "execute_result"
    }
   ],
   "source": [
    "a"
   ]
  },
  {
   "cell_type": "code",
   "execution_count": 13,
   "id": "dc616f12",
   "metadata": {},
   "outputs": [
    {
     "ename": "KeyError",
     "evalue": "'popitem(): dictionary is empty'",
     "output_type": "error",
     "traceback": [
      "\u001b[1;31m---------------------------------------------------------------------------\u001b[0m",
      "\u001b[1;31mKeyError\u001b[0m                                  Traceback (most recent call last)",
      "\u001b[1;32m~\\AppData\\Local\\Temp\\ipykernel_10564\\3190925382.py\u001b[0m in \u001b[0;36m<module>\u001b[1;34m\u001b[0m\n\u001b[0;32m      2\u001b[0m \u001b[1;31m#empty then raise error\u001b[0m\u001b[1;33m\u001b[0m\u001b[1;33m\u001b[0m\u001b[0m\n\u001b[0;32m      3\u001b[0m \u001b[0ma\u001b[0m\u001b[1;33m=\u001b[0m\u001b[1;33m{\u001b[0m\u001b[1;33m}\u001b[0m\u001b[1;33m\u001b[0m\u001b[1;33m\u001b[0m\u001b[0m\n\u001b[1;32m----> 4\u001b[1;33m \u001b[0ma\u001b[0m\u001b[1;33m.\u001b[0m\u001b[0mpopitem\u001b[0m\u001b[1;33m(\u001b[0m\u001b[1;33m)\u001b[0m\u001b[1;33m\u001b[0m\u001b[1;33m\u001b[0m\u001b[0m\n\u001b[0m",
      "\u001b[1;31mKeyError\u001b[0m: 'popitem(): dictionary is empty'"
     ]
    }
   ],
   "source": [
    "#remove any key values pair from dict and return key value pair if dict \n",
    "#empty then raise error\n",
    "a={}\n",
    "a.popitem()"
   ]
  },
  {
   "cell_type": "code",
   "execution_count": 28,
   "id": "d4a8dd51",
   "metadata": {},
   "outputs": [
    {
     "data": {
      "text/plain": [
       "{1: 100, 2: 100, 3: 100, 4: 100}"
      ]
     },
     "execution_count": 28,
     "metadata": {},
     "output_type": "execute_result"
    }
   ],
   "source": [
    "#Create a new dictionary with keys from iterable and values set to value.\n",
    "y=[1,2,3,4]\n",
    "dict.fromkeys(y,100)"
   ]
  },
  {
   "cell_type": "code",
   "execution_count": 14,
   "id": "8f066bf1",
   "metadata": {},
   "outputs": [
    {
     "data": {
      "text/plain": [
       "{8: 100, 2: 100, 3: 200, 4: 150, 6: 180}"
      ]
     },
     "execution_count": 14,
     "metadata": {},
     "output_type": "execute_result"
    }
   ],
   "source": [
    "#Create a Dict with 5 key value apply all the method\n",
    "x={8:100,2:100,3:200,4:150,6:180}\n",
    "x"
   ]
  },
  {
   "cell_type": "code",
   "execution_count": 16,
   "id": "5890c47f",
   "metadata": {},
   "outputs": [
    {
     "data": {
      "text/plain": [
       "5"
      ]
     },
     "execution_count": 16,
     "metadata": {},
     "output_type": "execute_result"
    }
   ],
   "source": [
    "len(x)"
   ]
  },
  {
   "cell_type": "code",
   "execution_count": 17,
   "id": "6b28b601",
   "metadata": {},
   "outputs": [
    {
     "data": {
      "text/plain": [
       "100"
      ]
     },
     "execution_count": 17,
     "metadata": {},
     "output_type": "execute_result"
    }
   ],
   "source": [
    "x.get(2)   # return 2 value"
   ]
  },
  {
   "cell_type": "code",
   "execution_count": 19,
   "id": "fb198b94",
   "metadata": {},
   "outputs": [
    {
     "data": {
      "text/plain": [
       "{8: 100, 2: 100, 3: 200, 4: 150, 6: 180, 'Mujahid': None}"
      ]
     },
     "execution_count": 19,
     "metadata": {},
     "output_type": "execute_result"
    }
   ],
   "source": [
    "x.setdefault('Mujahid')  # add key if not present and set deault value none\n",
    "x"
   ]
  },
  {
   "cell_type": "code",
   "execution_count": 21,
   "id": "091885db",
   "metadata": {},
   "outputs": [
    {
     "data": {
      "text/plain": [
       "{8: 100, 2: 100, 3: 200, 4: 150, 6: 180, 'Mujahid': None, 'pock': 'Jamadar'}"
      ]
     },
     "execution_count": 21,
     "metadata": {},
     "output_type": "execute_result"
    }
   ],
   "source": [
    "# add key if not present and set deault value \n",
    "x.setdefault('pock','Jamadar')  \n",
    "x"
   ]
  },
  {
   "cell_type": "code",
   "execution_count": 22,
   "id": "81498ff2",
   "metadata": {},
   "outputs": [
    {
     "data": {
      "text/plain": [
       "{8: 100, 2: 100, 3: 200, 4: 150, 6: 180, 'Mujahid': 'MJ', 'pock': 'Jamadar'}"
      ]
     },
     "execution_count": 22,
     "metadata": {},
     "output_type": "execute_result"
    }
   ],
   "source": [
    "x.update({'Mujahid':'MJ'})  # update  values\n",
    "x\n"
   ]
  },
  {
   "cell_type": "code",
   "execution_count": 24,
   "id": "3ca46ed9",
   "metadata": {},
   "outputs": [
    {
     "data": {
      "text/plain": [
       "'Jamadar'"
      ]
     },
     "execution_count": 24,
     "metadata": {},
     "output_type": "execute_result"
    }
   ],
   "source": [
    "x.pop('pock')  # key is given and return value if key present else error"
   ]
  },
  {
   "cell_type": "code",
   "execution_count": 25,
   "id": "410a2dbc",
   "metadata": {},
   "outputs": [
    {
     "data": {
      "text/plain": [
       "('Mujahid', 'MJ')"
      ]
     },
     "execution_count": 25,
     "metadata": {},
     "output_type": "execute_result"
    }
   ],
   "source": [
    "#remove any key values pair from dict and return key value pair .\n",
    "x.popitem()"
   ]
  },
  {
   "cell_type": "code",
   "execution_count": 26,
   "id": "be3af7d4",
   "metadata": {},
   "outputs": [
    {
     "data": {
      "text/plain": [
       "{1: 5, 2: 6, 3: 7}"
      ]
     },
     "execution_count": 26,
     "metadata": {},
     "output_type": "execute_result"
    }
   ],
   "source": [
    "# having to list x=[1,2,3] y=[5,6,7] create dict x is key y as value\n",
    "x=[1,2,3]\n",
    "y=[5,6,7]\n",
    "dict(zip(x,y))\n",
    "# combine two or more iterable dictionaries into a single iterable,\n",
    "#where corresponding elements from the input iterable are paired together as tuples"
   ]
  },
  {
   "cell_type": "code",
   "execution_count": null,
   "id": "0b301ffc",
   "metadata": {},
   "outputs": [],
   "source": []
  }
 ],
 "metadata": {
  "kernelspec": {
   "display_name": "Python 3 (ipykernel)",
   "language": "python",
   "name": "python3"
  },
  "language_info": {
   "codemirror_mode": {
    "name": "ipython",
    "version": 3
   },
   "file_extension": ".py",
   "mimetype": "text/x-python",
   "name": "python",
   "nbconvert_exporter": "python",
   "pygments_lexer": "ipython3",
   "version": "3.9.13"
  }
 },
 "nbformat": 4,
 "nbformat_minor": 5
}
