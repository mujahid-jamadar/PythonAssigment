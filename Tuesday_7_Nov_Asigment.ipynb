{
 "cells": [
  {
   "cell_type": "code",
   "execution_count": 3,
   "id": "8afe55ec",
   "metadata": {},
   "outputs": [],
   "source": [
    "#What is Module \n",
    "#what is diff import math and from math import *\n",
    "\n",
    "#what is module aliasing and member aliasing\n",
    "#random,collection,time,io,re,sys explore this module\n",
    "#import the file and take bank input\n",
    "\n",
    "#try all option we have import in test file"
   ]
  },
  {
   "cell_type": "code",
   "execution_count": 2,
   "id": "0036fba6",
   "metadata": {},
   "outputs": [],
   "source": [
    "x=88\n",
    "y='Mujahid'\n",
    "z='Pock'\n",
    "def display():\n",
    "    print(x,y,z)"
   ]
  },
  {
   "cell_type": "code",
   "execution_count": 4,
   "id": "92d25f48",
   "metadata": {},
   "outputs": [],
   "source": [
    "#What is Module:\n",
    "#->Modules are simply files with the “. py” extension containing Python code that \n",
    "  #->can be imported inside another Python Program."
   ]
  },
  {
   "cell_type": "code",
   "execution_count": 5,
   "id": "9e41a200",
   "metadata": {},
   "outputs": [],
   "source": [
    "#what is diff import math and from math import *:\n",
    "#->If you import math, you can use math functions with a dot notation. \n",
    "    #->math. sqrt, for example. If you from math import *, all math names\n",
    "    #->are available without the dot notation."
   ]
  },
  {
   "cell_type": "code",
   "execution_count": 6,
   "id": "83253f3e",
   "metadata": {},
   "outputs": [
    {
     "data": {
      "text/plain": [
       "3.141592653589793"
      ]
     },
     "execution_count": 6,
     "metadata": {},
     "output_type": "execute_result"
    }
   ],
   "source": [
    "#what is module aliasing and member aliasing:\n",
    "#1.Module Aliasing:\n",
    "    #->Module aliasing involves assigning a different name or \n",
    "        #-shorthand notation to a module\n",
    "        \n",
    "import math as m\n",
    "m.pi"
   ]
  },
  {
   "cell_type": "code",
   "execution_count": 7,
   "id": "8feed7a9",
   "metadata": {},
   "outputs": [
    {
     "data": {
      "text/plain": [
       "120"
      ]
     },
     "execution_count": 7,
     "metadata": {},
     "output_type": "execute_result"
    }
   ],
   "source": [
    "#1.member Aliasing:\n",
    "  #->Member aliasing is about assigning a different name to a specific \n",
    "    #->function, variable, or class member within a module or object.\n",
    "        \n",
    "from  math import factorial as f\n",
    "f(5)"
   ]
  },
  {
   "cell_type": "code",
   "execution_count": 8,
   "id": "a6dd7b81",
   "metadata": {},
   "outputs": [
    {
     "name": "stdout",
     "output_type": "stream",
     "text": [
      "0.8724978870630673\n"
     ]
    }
   ],
   "source": [
    "#random,collection,time,io,re,sys explore this module\n",
    "#1.random():\n",
    "#generate random number between 0.0 to 1.0\n",
    "import random  \n",
    "ran_numb = random.random()\n",
    "print(ran_numb)\n"
   ]
  },
  {
   "cell_type": "code",
   "execution_count": 10,
   "id": "1f80e22a",
   "metadata": {},
   "outputs": [
    {
     "name": "stdout",
     "output_type": "stream",
     "text": [
      "8\n"
     ]
    }
   ],
   "source": [
    "#2.randint\n",
    "# Generate a random integer between 1 and 10\n",
    "num = random.randint(1, 10)\n",
    "print(num)\n"
   ]
  },
  {
   "cell_type": "code",
   "execution_count": 11,
   "id": "f2074110",
   "metadata": {},
   "outputs": [
    {
     "name": "stdout",
     "output_type": "stream",
     "text": [
      "orange\n"
     ]
    }
   ],
   "source": [
    "#3.choice\n",
    "\n",
    "# Select a random element from a list\n",
    "l = ['apple', 'banana', 'orange', 'grape']\n",
    "element = random.choice(l)\n",
    "print(element)\n"
   ]
  },
  {
   "cell_type": "code",
   "execution_count": 14,
   "id": "2290c5af",
   "metadata": {},
   "outputs": [
    {
     "name": "stdout",
     "output_type": "stream",
     "text": [
      " Before sleep\n",
      "After sleep\n"
     ]
    }
   ],
   "source": [
    "#time\n",
    "#1.time()\n",
    "import time\n",
    "# suspends the execution of the current thread for the given number of seconds\n",
    "print(\" Before sleep\")\n",
    "time.sleep(3)\n",
    "print(\"After sleep\")\n"
   ]
  },
  {
   "cell_type": "code",
   "execution_count": 19,
   "id": "41edda8b",
   "metadata": {},
   "outputs": [
    {
     "name": "stdout",
     "output_type": "stream",
     "text": [
      "time.struct_time(tm_year=2023, tm_mon=11, tm_mday=7, tm_hour=8, tm_min=57, tm_sec=58, tm_wday=1, tm_yday=311, tm_isdst=0)\n"
     ]
    }
   ],
   "source": [
    "#2.localtime():# Get the current time as a struct_time object\n",
    "\n",
    "current_time = time.localtime()\n",
    "print(current_time)\n"
   ]
  },
  {
   "cell_type": "code",
   "execution_count": 18,
   "id": "55a3fc9f",
   "metadata": {},
   "outputs": [
    {
     "name": "stdout",
     "output_type": "stream",
     "text": [
      "Counter({4: 4, 3: 3, 2: 2, 1: 1})\n"
     ]
    }
   ],
   "source": [
    "#3.collection\n",
    "\n",
    "#1.Counter():# Count occurrences of elements in a list\n",
    "\n",
    "from collections import Counter\n",
    "l = [1, 2, 2, 3, 3, 3, 4, 4, 4, 4]\n",
    "count = Counter(l)\n",
    "print(count)\n"
   ]
  },
  {
   "cell_type": "code",
   "execution_count": 22,
   "id": "f33e7aa5",
   "metadata": {},
   "outputs": [
    {
     "name": "stdout",
     "output_type": "stream",
     "text": [
      "OrderedDict([('a', 1), ('d', 2), ('c', 3)])\n"
     ]
    }
   ],
   "source": [
    "#2.OrderedDict():# Create an ordered dictionary\n",
    "#This function creates a dictionary that remembers the order of key insertion.\n",
    "ord_dict = OrderedDict([('a', 1), ('d', 2), ('c', 3)])\n",
    "print(ord_dict)\n"
   ]
  },
  {
   "cell_type": "code",
   "execution_count": 23,
   "id": "84291099",
   "metadata": {},
   "outputs": [
    {
     "name": "stdout",
     "output_type": "stream",
     "text": [
      "b'Hello, this is binary data.'\n"
     ]
    }
   ],
   "source": [
    "#4.io:\n",
    "#-This function creates an in-memory binary stream, which is useful for working with binary data.\n",
    "\n",
    "from io import BytesIO\n",
    "\n",
    "stream = BytesIO(b'Hello, this is binary data.')\n",
    "print(stream.getvalue())\n"
   ]
  },
  {
   "cell_type": "code",
   "execution_count": 24,
   "id": "bcf0e82e",
   "metadata": {},
   "outputs": [
    {
     "name": "stdout",
     "output_type": "stream",
     "text": [
      "Match found: Hello\n"
     ]
    }
   ],
   "source": [
    "#5.re:\n",
    "\n",
    "#1.re :# Matches string at the start of the string\n",
    "import re\n",
    "result = re.match(r'Hello', 'Hello, World!')  \n",
    "if result:\n",
    "    print(\"Match found:\", result.group())\n",
    "else:\n",
    "    print(\"No match\")\n"
   ]
  },
  {
   "cell_type": "code",
   "execution_count": 31,
   "id": "5baf1d57",
   "metadata": {},
   "outputs": [
    {
     "name": "stdout",
     "output_type": "stream",
     "text": [
      "Match found: mj\n"
     ]
    }
   ],
   "source": [
    "#2.search:# Matches 'mj' in the string\n",
    "result = re.search(r'mj', ' mujahidmj')  \n",
    "if result:\n",
    "    print(\"Match found:\", result.group())\n",
    "else:\n",
    "    print(\"No match\")\n"
   ]
  },
  {
   "cell_type": "code",
   "execution_count": 33,
   "id": "4cce2b93",
   "metadata": {},
   "outputs": [
    {
     "name": "stdout",
     "output_type": "stream",
     "text": [
      "win32\n"
     ]
    }
   ],
   "source": [
    "import sys\n",
    "#6.sys\n",
    "#1.platform: Get the platform information\n",
    "\n",
    "print(sys.platform)\n"
   ]
  },
  {
   "cell_type": "code",
   "execution_count": 34,
   "id": "9f35839a",
   "metadata": {},
   "outputs": [
    {
     "name": "stdout",
     "output_type": "stream",
     "text": [
      "3.9.13 (main, Aug 25 2022, 23:51:50) [MSC v.1916 64 bit (AMD64)]\n"
     ]
    }
   ],
   "source": [
    "# 2.version:Get the Python version\n",
    "print(sys.version)\n"
   ]
  },
  {
   "cell_type": "code",
   "execution_count": 35,
   "id": "4520c731",
   "metadata": {},
   "outputs": [
    {
     "name": "stdout",
     "output_type": "stream",
     "text": [
      "['C:\\\\Users\\\\Mujahid\\\\Desktop\\\\MLDS\\\\Python lecture', 'C:\\\\Users\\\\Mujahid\\\\anaconda3\\\\python39.zip', 'C:\\\\Users\\\\Mujahid\\\\anaconda3\\\\DLLs', 'C:\\\\Users\\\\Mujahid\\\\anaconda3\\\\lib', 'C:\\\\Users\\\\Mujahid\\\\anaconda3', '', 'C:\\\\Users\\\\Mujahid\\\\anaconda3\\\\lib\\\\site-packages', 'C:\\\\Users\\\\Mujahid\\\\anaconda3\\\\lib\\\\site-packages\\\\win32', 'C:\\\\Users\\\\Mujahid\\\\anaconda3\\\\lib\\\\site-packages\\\\win32\\\\lib', 'C:\\\\Users\\\\Mujahid\\\\anaconda3\\\\lib\\\\site-packages\\\\Pythonwin', 'C:\\\\Users\\\\Mujahid\\\\anaconda3\\\\lib\\\\site-packages\\\\IPython\\\\extensions', 'C:\\\\Users\\\\Mujahid\\\\.ipython']\n"
     ]
    }
   ],
   "source": [
    "# 3.path:Access the module search path\n",
    "print(sys.path)\n"
   ]
  },
  {
   "cell_type": "code",
   "execution_count": 40,
   "id": "83e5c694",
   "metadata": {},
   "outputs": [
    {
     "name": "stdout",
     "output_type": "stream",
     "text": [
      "Enter amount to depoist900\n",
      "Current Balance is  900\n"
     ]
    }
   ],
   "source": [
    "#import the module and deposit the amount\n",
    "from mj import test\n",
    "test.deposit()"
   ]
  },
  {
   "cell_type": "code",
   "execution_count": 41,
   "id": "e81b14d3",
   "metadata": {},
   "outputs": [
    {
     "data": {
      "text/plain": [
       "900"
      ]
     },
     "execution_count": 41,
     "metadata": {},
     "output_type": "execute_result"
    }
   ],
   "source": [
    "  test.balance"
   ]
  },
  {
   "cell_type": "code",
   "execution_count": 47,
   "id": "1d78a487",
   "metadata": {},
   "outputs": [
    {
     "ename": "AttributeError",
     "evalue": "module 'mj.test' has no attribute 'sq'",
     "output_type": "error",
     "traceback": [
      "\u001b[1;31m---------------------------------------------------------------------------\u001b[0m",
      "\u001b[1;31mAttributeError\u001b[0m                            Traceback (most recent call last)",
      "\u001b[1;32m~\\AppData\\Local\\Temp\\ipykernel_17680\\3193351335.py\u001b[0m in \u001b[0;36m<module>\u001b[1;34m\u001b[0m\n\u001b[0;32m      2\u001b[0m \u001b[1;33m\u001b[0m\u001b[0m\n\u001b[0;32m      3\u001b[0m \u001b[1;32mfrom\u001b[0m \u001b[0mmj\u001b[0m \u001b[1;32mimport\u001b[0m \u001b[0mtest\u001b[0m\u001b[1;33m\u001b[0m\u001b[1;33m\u001b[0m\u001b[0m\n\u001b[1;32m----> 4\u001b[1;33m \u001b[0mtest\u001b[0m\u001b[1;33m.\u001b[0m\u001b[0msq\u001b[0m\u001b[1;33m(\u001b[0m\u001b[1;33m)\u001b[0m\u001b[1;33m\u001b[0m\u001b[1;33m\u001b[0m\u001b[0m\n\u001b[0m",
      "\u001b[1;31mAttributeError\u001b[0m: module 'mj.test' has no attribute 'sq'"
     ]
    }
   ],
   "source": [
    "#try all option we have import in test file\n",
    "\n",
    "from mj import test \n",
    "test.sq()"
   ]
  },
  {
   "cell_type": "code",
   "execution_count": 3,
   "id": "b3df5ac9",
   "metadata": {},
   "outputs": [
    {
     "name": "stdout",
     "output_type": "stream",
     "text": [
      "Enter number5\n",
      "Factorial of  5  is  120\n"
     ]
    }
   ],
   "source": [
    "#import the module and tactorial of number\n",
    "from mj import test as t\n",
    "t.fact()"
   ]
  },
  {
   "cell_type": "code",
   "execution_count": 5,
   "id": "a3d4c1cc",
   "metadata": {},
   "outputs": [
    {
     "name": "stdout",
     "output_type": "stream",
     "text": [
      "Enter number to find its squre root625\n",
      "squre root of  625  is  25.0\n"
     ]
    }
   ],
   "source": [
    "t.sq()"
   ]
  },
  {
   "cell_type": "code",
   "execution_count": 6,
   "id": "4abe6be7",
   "metadata": {},
   "outputs": [
    {
     "name": "stdout",
     "output_type": "stream",
     "text": [
      "Enter number2\n",
      "Enter number3\n",
      "8.0\n"
     ]
    }
   ],
   "source": [
    "t.pw()"
   ]
  },
  {
   "cell_type": "code",
   "execution_count": null,
   "id": "9ee2b0a0",
   "metadata": {},
   "outputs": [],
   "source": []
  }
 ],
 "metadata": {
  "kernelspec": {
   "display_name": "Python 3 (ipykernel)",
   "language": "python",
   "name": "python3"
  },
  "language_info": {
   "codemirror_mode": {
    "name": "ipython",
    "version": 3
   },
   "file_extension": ".py",
   "mimetype": "text/x-python",
   "name": "python",
   "nbconvert_exporter": "python",
   "pygments_lexer": "ipython3",
   "version": "3.9.13"
  }
 },
 "nbformat": 4,
 "nbformat_minor": 5
}
