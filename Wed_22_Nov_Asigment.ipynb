{
 "cells": [
  {
   "cell_type": "code",
   "execution_count": null,
   "id": "85c13204",
   "metadata": {},
   "outputs": [],
   "source": [
    "Solve 1 example with positional,Keyword ,variable length,default,Keyword Variable-Length "
   ]
  },
  {
   "cell_type": "code",
   "execution_count": 1,
   "id": "9c48b448",
   "metadata": {},
   "outputs": [
    {
     "name": "stdout",
     "output_type": "stream",
     "text": [
      "name  Mujahid\n",
      "Age  23\n"
     ]
    }
   ],
   "source": [
    "#Positional Arguments Example:\n",
    "class Test:\n",
    "    def info(self,name,age):\n",
    "        print('name ',name)\n",
    "        print('Age ',age)\n",
    "        \n",
    "t=Test()\n",
    "t.info(\"Mujahid\",23)"
   ]
  },
  {
   "cell_type": "code",
   "execution_count": 3,
   "id": "337d150b",
   "metadata": {},
   "outputs": [
    {
     "name": "stdout",
     "output_type": "stream",
     "text": [
      "name  Mujahid\n",
      "Age  23\n"
     ]
    }
   ],
   "source": [
    "#Keyword Arguments Example:\n",
    "class Test:\n",
    "    def info(self,name,age):\n",
    "        print('name ',name)\n",
    "        print('Age ',age)\n",
    "        \n",
    "t=Test()\n",
    "t.info(age=23,name=\"Mujahid\")"
   ]
  },
  {
   "cell_type": "code",
   "execution_count": 6,
   "id": "51f08e10",
   "metadata": {},
   "outputs": [
    {
     "ename": "TypeError",
     "evalue": "unsupported operand type(s) for +: 'int' and 'Test1'",
     "output_type": "error",
     "traceback": [
      "\u001b[1;31m---------------------------------------------------------------------------\u001b[0m",
      "\u001b[1;31mTypeError\u001b[0m                                 Traceback (most recent call last)",
      "\u001b[1;32m~\\AppData\\Local\\Temp\\ipykernel_8088\\1844771896.py\u001b[0m in \u001b[0;36m<module>\u001b[1;34m\u001b[0m\n\u001b[0;32m      8\u001b[0m         \u001b[0mprint\u001b[0m\u001b[1;33m(\u001b[0m\u001b[1;34m'Sum '\u001b[0m\u001b[1;33m,\u001b[0m\u001b[0msum\u001b[0m\u001b[1;33m)\u001b[0m\u001b[1;33m\u001b[0m\u001b[1;33m\u001b[0m\u001b[0m\n\u001b[0;32m      9\u001b[0m \u001b[0mt1\u001b[0m\u001b[1;33m=\u001b[0m\u001b[0mTest1\u001b[0m\u001b[1;33m(\u001b[0m\u001b[1;33m)\u001b[0m\u001b[1;33m\u001b[0m\u001b[1;33m\u001b[0m\u001b[0m\n\u001b[1;32m---> 10\u001b[1;33m \u001b[0mt1\u001b[0m\u001b[1;33m.\u001b[0m\u001b[0msuma\u001b[0m\u001b[1;33m(\u001b[0m\u001b[1;36m1\u001b[0m\u001b[1;33m,\u001b[0m\u001b[1;36m2\u001b[0m\u001b[1;33m,\u001b[0m\u001b[1;36m3\u001b[0m\u001b[1;33m,\u001b[0m\u001b[1;36m4\u001b[0m\u001b[1;33m,\u001b[0m\u001b[1;36m5\u001b[0m\u001b[1;33m)\u001b[0m\u001b[1;33m\u001b[0m\u001b[1;33m\u001b[0m\u001b[0m\n\u001b[0m",
      "\u001b[1;32m~\\AppData\\Local\\Temp\\ipykernel_8088\\1844771896.py\u001b[0m in \u001b[0;36msuma\u001b[1;34m(*args)\u001b[0m\n\u001b[0;32m      4\u001b[0m         \u001b[0msum\u001b[0m\u001b[1;33m=\u001b[0m\u001b[1;36m0\u001b[0m\u001b[1;33m\u001b[0m\u001b[1;33m\u001b[0m\u001b[0m\n\u001b[0;32m      5\u001b[0m         \u001b[1;32mfor\u001b[0m \u001b[0mi\u001b[0m \u001b[1;32min\u001b[0m \u001b[0margs\u001b[0m\u001b[1;33m:\u001b[0m\u001b[1;33m\u001b[0m\u001b[1;33m\u001b[0m\u001b[0m\n\u001b[1;32m----> 6\u001b[1;33m             \u001b[0msum\u001b[0m\u001b[1;33m=\u001b[0m\u001b[0msum\u001b[0m\u001b[1;33m+\u001b[0m\u001b[0mi\u001b[0m\u001b[1;33m\u001b[0m\u001b[1;33m\u001b[0m\u001b[0m\n\u001b[0m\u001b[0;32m      7\u001b[0m \u001b[1;33m\u001b[0m\u001b[0m\n\u001b[0;32m      8\u001b[0m         \u001b[0mprint\u001b[0m\u001b[1;33m(\u001b[0m\u001b[1;34m'Sum '\u001b[0m\u001b[1;33m,\u001b[0m\u001b[0msum\u001b[0m\u001b[1;33m)\u001b[0m\u001b[1;33m\u001b[0m\u001b[1;33m\u001b[0m\u001b[0m\n",
      "\u001b[1;31mTypeError\u001b[0m: unsupported operand type(s) for +: 'int' and 'Test1'"
     ]
    }
   ],
   "source": [
    "#Variable-Length Arguments Example:\n",
    "class Test1:\n",
    "    def suma(*args):\n",
    "        sum=0\n",
    "        for i in args:\n",
    "            sum=sum+i\n",
    "            \n",
    "        print('Sum ',sum)\n",
    "t1=Test1()\n",
    "t1.suma(1,2,3,4,5)"
   ]
  },
  {
   "cell_type": "code",
   "execution_count": 7,
   "id": "42217391",
   "metadata": {},
   "outputs": [
    {
     "name": "stdout",
     "output_type": "stream",
     "text": [
      "{'age': 23, 'name': 'Mujahid', 'city': 'Pune'}\n"
     ]
    }
   ],
   "source": [
    "#Keyword Variable-Length Arguments Example:\n",
    "class Test:\n",
    "    def info(self,**kwargs):\n",
    "        \n",
    "        print(kwargs)\n",
    "        \n",
    "t=Test()\n",
    "t.info(age=23,name=\"Mujahid\",city='Pune')"
   ]
  },
  {
   "cell_type": "code",
   "execution_count": 11,
   "id": "ae2be0d3",
   "metadata": {},
   "outputs": [
    {
     "name": "stdout",
     "output_type": "stream",
     "text": [
      "You can Vote\n",
      "name  Pock\n",
      "Age  21\n",
      "You can Vote\n",
      "name  mj\n",
      "Age  18\n"
     ]
    }
   ],
   "source": [
    "#Default Value Example:\n",
    "class Test:\n",
    "    def voter(self,name,age=18):\n",
    "        print('You can Vote')\n",
    "        print('name ',name)\n",
    "        print('Age ',age)\n",
    "        \n",
    "t=Test()\n",
    "t.voter('Pock',21)\n",
    "t.voter('mj')\n",
    "        "
   ]
  },
  {
   "cell_type": "code",
   "execution_count": null,
   "id": "2aa6e045",
   "metadata": {},
   "outputs": [],
   "source": []
  }
 ],
 "metadata": {
  "kernelspec": {
   "display_name": "Python 3 (ipykernel)",
   "language": "python",
   "name": "python3"
  },
  "language_info": {
   "codemirror_mode": {
    "name": "ipython",
    "version": 3
   },
   "file_extension": ".py",
   "mimetype": "text/x-python",
   "name": "python",
   "nbconvert_exporter": "python",
   "pygments_lexer": "ipython3",
   "version": "3.9.13"
  }
 },
 "nbformat": 4,
 "nbformat_minor": 5
}
