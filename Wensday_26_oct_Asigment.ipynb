{
 "cells": [
  {
   "cell_type": "code",
   "execution_count": null,
   "id": "ea43433a",
   "metadata": {},
   "outputs": [],
   "source": [
    "#Assigment\n",
    "#print(10 0)\n",
    "#print(-5 5)\n",
    "#1 to 20 even\n",
    "#1 to 20 odd\n",
    "#check number number is even or odd\n",
    "#check number number is +ve or -ve"
   ]
  },
  {
   "cell_type": "code",
   "execution_count": 1,
   "id": "b7b7be5a",
   "metadata": {},
   "outputs": [
    {
     "name": "stdout",
     "output_type": "stream",
     "text": [
      "10\n",
      "9\n",
      "8\n",
      "7\n",
      "6\n",
      "5\n",
      "4\n",
      "3\n",
      "2\n",
      "1\n",
      "0\n"
     ]
    }
   ],
   "source": [
    "# print 10 to 0\n",
    "x=10\n",
    "while(x>=0):\n",
    "    print(x)\n",
    "    x-=1"
   ]
  },
  {
   "cell_type": "code",
   "execution_count": 2,
   "id": "25480e56",
   "metadata": {},
   "outputs": [
    {
     "name": "stdout",
     "output_type": "stream",
     "text": [
      "-5\n",
      "-4\n",
      "-3\n",
      "-2\n",
      "-1\n",
      "0\n",
      "1\n",
      "2\n",
      "3\n",
      "4\n",
      "5\n"
     ]
    }
   ],
   "source": [
    "# print-5 to 5\n",
    "x=-5\n",
    "while(x<=5):\n",
    "    print(x)\n",
    "    x+=1"
   ]
  },
  {
   "cell_type": "code",
   "execution_count": 5,
   "id": "ddb18e93",
   "metadata": {},
   "outputs": [
    {
     "name": "stdout",
     "output_type": "stream",
     "text": [
      "2\n",
      "4\n",
      "6\n",
      "8\n",
      "10\n",
      "12\n",
      "14\n",
      "16\n",
      "18\n",
      "20\n"
     ]
    }
   ],
   "source": [
    "#1 to 20 even using while loop\n",
    "count=1\n",
    "while(count<=20):\n",
    "    if count%2==0:\n",
    "        print(count)\n",
    "    count+=1    "
   ]
  },
  {
   "cell_type": "code",
   "execution_count": 6,
   "id": "cfc21ae5",
   "metadata": {},
   "outputs": [
    {
     "name": "stdout",
     "output_type": "stream",
     "text": [
      "1\n",
      "3\n",
      "5\n",
      "7\n",
      "9\n",
      "11\n",
      "13\n",
      "15\n",
      "17\n",
      "19\n"
     ]
    }
   ],
   "source": [
    "#1 to 20 odd using while loop\n",
    "count=1\n",
    "while(count<=20):\n",
    "    if count%2!=0:\n",
    "        print(count)\n",
    "    count+=1  "
   ]
  },
  {
   "cell_type": "code",
   "execution_count": 8,
   "id": "bd2a07b1",
   "metadata": {},
   "outputs": [
    {
     "name": "stdout",
     "output_type": "stream",
     "text": [
      "98  is even\n",
      "67  is odd\n",
      "45  is odd\n",
      "23  is odd\n",
      "21  is odd\n",
      "66  is even\n",
      "78  is even\n",
      "88  is even\n"
     ]
    }
   ],
   "source": [
    "#check  number is even or odd\n",
    "n=[98,67,45,23,21,66,78,88]\n",
    "i=0\n",
    "while(i<len(n)):\n",
    "    if n[i]%2==0:\n",
    "        print(n[i],' is even')\n",
    "    else:\n",
    "        print(n[i],' is odd')\n",
    "        \n",
    "    i+=1    \n"
   ]
  },
  {
   "cell_type": "code",
   "execution_count": 9,
   "id": "9fdc4ada",
   "metadata": {},
   "outputs": [
    {
     "name": "stdout",
     "output_type": "stream",
     "text": [
      "10  is +ve\n",
      "98  is +ve\n",
      "-21  is -ve\n",
      "-45  is -ve\n",
      "66  is +ve\n",
      "-10  is -ve\n",
      "92  is +ve\n",
      "-75  is -ve\n"
     ]
    }
   ],
   "source": [
    "#check number number is +ve or -ve\n",
    "n=[10,98,-21,-45,66,-10,92,-75]\n",
    "i=0\n",
    "while(i<len(n)):\n",
    "    if n[i]>0:\n",
    "        print(n[i],' is +ve')\n",
    "    else:\n",
    "        print(n[i],' is -ve')\n",
    "        \n",
    "    i+=1  "
   ]
  },
  {
   "cell_type": "code",
   "execution_count": null,
   "id": "86d28efb",
   "metadata": {},
   "outputs": [],
   "source": []
  }
 ],
 "metadata": {
  "kernelspec": {
   "display_name": "Python 3 (ipykernel)",
   "language": "python",
   "name": "python3"
  },
  "language_info": {
   "codemirror_mode": {
    "name": "ipython",
    "version": 3
   },
   "file_extension": ".py",
   "mimetype": "text/x-python",
   "name": "python",
   "nbconvert_exporter": "python",
   "pygments_lexer": "ipython3",
   "version": "3.9.13"
  }
 },
 "nbformat": 4,
 "nbformat_minor": 5
}
