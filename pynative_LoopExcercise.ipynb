{
 "cells": [
  {
   "cell_type": "code",
   "execution_count": 2,
   "id": "dda925e7",
   "metadata": {},
   "outputs": [
    {
     "name": "stdout",
     "output_type": "stream",
     "text": [
      "1\n",
      "2\n",
      "3\n",
      "4\n",
      "5\n",
      "6\n",
      "7\n",
      "8\n",
      "9\n",
      "10\n"
     ]
    }
   ],
   "source": [
    "#Exercise 1: Print First 10 natural numbers using while loop\n",
    "for i in  range(1,11):\n",
    "    print(i)"
   ]
  },
  {
   "cell_type": "code",
   "execution_count": 6,
   "id": "6a98ac17",
   "metadata": {},
   "outputs": [
    {
     "name": "stdout",
     "output_type": "stream",
     "text": [
      "1 \n",
      "1 2 \n",
      "1 2 3 \n",
      "1 2 3 4 \n",
      "1 2 3 4 5 \n"
     ]
    }
   ],
   "source": [
    "#Exercise 2: Print the following pattern\n",
    "#Write a program to print the following number pattern using a loop.\n",
    "\n",
    "#1 \n",
    "#1 2 \n",
    "#1 2 3 \n",
    "#1 2 3 4 \n",
    "#1 2 3 4 5\n",
    "\n",
    "for i in  range(1,6):\n",
    "    for j in range(1,i+1):\n",
    "        print(j,end=' ')\n",
    "        \n",
    "    print()    "
   ]
  },
  {
   "cell_type": "code",
   "execution_count": 9,
   "id": "9b7a2e93",
   "metadata": {},
   "outputs": [
    {
     "name": "stdout",
     "output_type": "stream",
     "text": [
      "Enter number5\n",
      "15\n"
     ]
    }
   ],
   "source": [
    "#Calculate the sum of all numbers from 1 to a given number\n",
    "#Write a program to accept a number from a user and calculate the sum of all numbers from 1 to a given number\n",
    "\n",
    "num=int(input(\"Enter number\"))\n",
    "sum=0\n",
    "for i in range(1,num+1):\n",
    "    sum+=i\n",
    "    \n",
    "print(sum)    "
   ]
  },
  {
   "cell_type": "code",
   "execution_count": 10,
   "id": "87901631",
   "metadata": {},
   "outputs": [
    {
     "name": "stdout",
     "output_type": "stream",
     "text": [
      "Enter number5\n",
      "5\n",
      "10\n",
      "15\n",
      "20\n",
      "25\n",
      "30\n",
      "35\n",
      "40\n",
      "45\n",
      "50\n"
     ]
    }
   ],
   "source": [
    "#Exercise 4: Write a program to print multiplication table of a given number\n",
    "num=int(input(\"Enter number\"))\n",
    "\n",
    "for i in range(1,11):\n",
    "    print(i*num)"
   ]
  },
  {
   "cell_type": "code",
   "execution_count": 11,
   "id": "8c83c351",
   "metadata": {},
   "outputs": [
    {
     "name": "stdout",
     "output_type": "stream",
     "text": [
      "75\n",
      "145\n"
     ]
    }
   ],
   "source": [
    "#Exercise 5: Display numbers from a list using loop\n",
    "#Write a program to display only those numbers from a list that satisfy the following conditions\n",
    "#The number must be divisible by five\n",
    "#If the number is greater than 150, then skip it and move to the next number\n",
    "#If the number is greater than 500, then stop the loop\n",
    "#Given:\n",
    "num = [12, 75, 150, 180, 145, 525, 50]\n",
    "for i in num:\n",
    "    if i%5==0:\n",
    "        if i<150:\n",
    "            print(i)\n",
    "        if i>500:\n",
    "            break"
   ]
  },
  {
   "cell_type": "code",
   "execution_count": 12,
   "id": "de5830ed",
   "metadata": {},
   "outputs": [
    {
     "data": {
      "text/plain": [
       "329"
      ]
     },
     "execution_count": 12,
     "metadata": {},
     "output_type": "execute_result"
    }
   ],
   "source": [
    "#Exercise 6: Count the total number of digits in a number\n",
    "#Write a program to count the total number of digits in a number using a while loop.\n",
    "n=78671\n",
    "c=0\n",
    "while(n>0):\n",
    "    n=n/10\n",
    "    c+=1\n",
    "c    "
   ]
  },
  {
   "cell_type": "code",
   "execution_count": 15,
   "id": "a7f76333",
   "metadata": {},
   "outputs": [
    {
     "name": "stdout",
     "output_type": "stream",
     "text": [
      "5 4 3 2 1 \n",
      "4 3 2 1 \n",
      "3 2 1 \n",
      "2 1 \n",
      "1 \n"
     ]
    }
   ],
   "source": [
    "#Exercise 7: Print the following pattern\n",
    "#Write a program to use for loop to print the following reverse number pattern\n",
    "\n",
    "#5 4 3 2 1 \n",
    "#4 3 2 1 \n",
    "#3 2 1 \n",
    "#2 1 \n",
    "#1\n",
    "\n",
    "for i in range(5,0,-1):\n",
    "    for j in range(i,0,-1):\n",
    "        print(j,end=' ')\n",
    "        \n",
    "    print()    "
   ]
  },
  {
   "cell_type": "code",
   "execution_count": 23,
   "id": "06cf6161",
   "metadata": {},
   "outputs": [
    {
     "name": "stdout",
     "output_type": "stream",
     "text": [
      "50\n",
      "40\n",
      "30\n",
      "20\n",
      "10\n"
     ]
    }
   ],
   "source": [
    "#xercise 8: Print list in reverse order using a loop\n",
    "#Given:\n",
    "\n",
    "l = [10, 20, 30, 40, 50]\n",
    "n=[]\n",
    "n=reversed(l)\n",
    "for i in n:\n",
    "    print(i)"
   ]
  },
  {
   "cell_type": "code",
   "execution_count": 24,
   "id": "8f732518",
   "metadata": {},
   "outputs": [
    {
     "name": "stdout",
     "output_type": "stream",
     "text": [
      "-10\n",
      "-9\n",
      "-8\n",
      "-7\n",
      "-6\n",
      "-5\n",
      "-4\n",
      "-3\n",
      "-2\n",
      "-1\n"
     ]
    }
   ],
   "source": [
    "#Exercise 9: Display numbers from -10 to -1 using for loop\n",
    "\n",
    "for i in range(-10,0):\n",
    "    print(i)"
   ]
  },
  {
   "cell_type": "code",
   "execution_count": 26,
   "id": "3942164b",
   "metadata": {},
   "outputs": [
    {
     "name": "stdout",
     "output_type": "stream",
     "text": [
      "0\n",
      "1\n",
      "2\n",
      "3\n",
      "4\n",
      "done\n"
     ]
    }
   ],
   "source": [
    "#Exercise 10: Use else block to display a message “Done” after successful execution of for loop\n",
    "\n",
    "for i in range(5):\n",
    "    print(i)\n",
    "else:\n",
    "    print(\"done\")"
   ]
  },
  {
   "cell_type": "code",
   "execution_count": 37,
   "id": "2bda1a97",
   "metadata": {},
   "outputs": [
    {
     "name": "stdout",
     "output_type": "stream",
     "text": [
      "23\n",
      "29\n",
      "31\n",
      "37\n",
      "41\n",
      "43\n",
      "47\n",
      "53\n",
      "59\n"
     ]
    }
   ],
   "source": [
    "#Exercise 11: Write a program to display all prime numbers within a range\n",
    "a=20 \n",
    "b=60\n",
    "for i in range(a,b+1):\n",
    "    prime=True\n",
    "    for j in range(2,i//2):\n",
    "        if i%j==0:\n",
    "            prime=False\n",
    "            break\n",
    "    if prime:       \n",
    "        print(i)        "
   ]
  },
  {
   "cell_type": "code",
   "execution_count": 42,
   "id": "1b5f65ac",
   "metadata": {},
   "outputs": [
    {
     "name": "stdout",
     "output_type": "stream",
     "text": [
      "0\n",
      "1\n",
      "1\n",
      "2\n",
      "3\n",
      "5\n",
      "8\n",
      "13\n",
      "21\n",
      "34\n"
     ]
    }
   ],
   "source": [
    "#Exercise 12: Display Fibonacci series up to 10 terms\n",
    "#The Fibonacci Sequence is a series of numbers. The next number is found by adding up the two numbers before it. The first two numbers are 0 and 1.\n",
    "\n",
    "#For example, 0, 1, 1, 2, 3, 5, 8, 13, 21. The next number in this series above is 13+21 = 34.\n",
    "\n",
    "num=10\n",
    "f=0\n",
    "l=1\n",
    "for i in range(num):\n",
    "    print(f)\n",
    "    r=f+l\n",
    "    f=l\n",
    "    l=r"
   ]
  },
  {
   "cell_type": "code",
   "execution_count": 44,
   "id": "1d1933e3",
   "metadata": {},
   "outputs": [
    {
     "name": "stdout",
     "output_type": "stream",
     "text": [
      "120\n"
     ]
    }
   ],
   "source": [
    "#Exercise 13: Find the factorial of a given number\n",
    "#Write a program to use the loop to find the factorial of a given number.\n",
    "\n",
    "#The factorial (symbol: !) means to multiply all whole numbers from the chosen number down to 1\n",
    "\n",
    "\n",
    "num =5\n",
    "r=1\n",
    "for i in range(1,num+1):\n",
    "    r*=i\n",
    "\n",
    "print(r)"
   ]
  },
  {
   "cell_type": "code",
   "execution_count": 46,
   "id": "99debfa9",
   "metadata": {},
   "outputs": [
    {
     "name": "stdout",
     "output_type": "stream",
     "text": [
      "24567\n"
     ]
    }
   ],
   "source": [
    "#Exercise 14: Reverse a given integer number\n",
    "num = 76542\n",
    "rev = 0\n",
    "while num > 0:\n",
    "    remind = num % 10\n",
    "    rev = (rev * 10) + remind\n",
    "    num = num // 10\n",
    "print(rev)"
   ]
  },
  {
   "cell_type": "code",
   "execution_count": 47,
   "id": "fae9d55a",
   "metadata": {},
   "outputs": [
    {
     "name": "stdout",
     "output_type": "stream",
     "text": [
      "20\n",
      "40\n",
      "60\n",
      "80\n",
      "100\n"
     ]
    }
   ],
   "source": [
    "#Exercise 15: Use a loop to display elements from a given list present at odd index positions\n",
    "l = [10, 20, 30, 40, 50, 60, 70, 80, 90, 100]\n",
    "for i in range(len(l)):\n",
    "    if i%2!=0:\n",
    "        print(l[i])"
   ]
  },
  {
   "cell_type": "code",
   "execution_count": 48,
   "id": "a8bc6c98",
   "metadata": {},
   "outputs": [
    {
     "name": "stdout",
     "output_type": "stream",
     "text": [
      "1\n",
      "8\n",
      "27\n",
      "64\n",
      "125\n",
      "216\n",
      "343\n"
     ]
    }
   ],
   "source": [
    "#Exercise 16: Calculate the cube of all numbers from 1 to a given number\n",
    "#Write a program to rint the cube of all numbers from 1 to a given number\n",
    "num =7\n",
    "for i in range(1,num+1):\n",
    "    print(i**3)"
   ]
  },
  {
   "cell_type": "code",
   "execution_count": 50,
   "id": "e54ce942",
   "metadata": {},
   "outputs": [
    {
     "name": "stdout",
     "output_type": "stream",
     "text": [
      "24690\n"
     ]
    }
   ],
   "source": [
    "#Exercise 17: Find the sum of the series upto n terms\n",
    "#Write a program to calculate the sum of series up to n term. For example, if n =5 the series will become 2 + 22 + 222 + 2222 + 22222 = 24690\n",
    "\n",
    "n = 5\n",
    "st = 2\n",
    "sum = 0\n",
    "\n",
    "# run loop n times\n",
    "for i in range(0, n):\n",
    "    sum += st\n",
    "    st = st * 10 + 2\n",
    "print(sum)"
   ]
  },
  {
   "cell_type": "code",
   "execution_count": 63,
   "id": "a02f6e27",
   "metadata": {},
   "outputs": [
    {
     "name": "stdout",
     "output_type": "stream",
     "text": [
      "\n",
      "* \n",
      "* * \n",
      "* * * \n",
      "* * * * \n",
      "* * * * * \n",
      "* * * * \n",
      "* * * \n",
      "* * \n",
      "* \n"
     ]
    }
   ],
   "source": [
    "#Exercise 18: Print the following pattern\n",
    "#Write a program to print the following start pattern using the for loop\n",
    "\n",
    "#* \n",
    "#* * \n",
    "#* * * \n",
    "#* * * * \n",
    "#* * * * * \n",
    "#* * * * \n",
    "#* * * \n",
    "#* * \n",
    "#*\n",
    "c=0\n",
    "for i in range(10):  \n",
    "    r=0\n",
    "    if i>4:\n",
    "        r=i-c\n",
    "        c+=2\n",
    "    else:\n",
    "        r=i        \n",
    "    for j in range(r):\n",
    "        print(\"*\",end=' ')\n",
    "        \n",
    "    print()    "
   ]
  },
  {
   "cell_type": "code",
   "execution_count": null,
   "id": "2908db7f",
   "metadata": {},
   "outputs": [],
   "source": []
  }
 ],
 "metadata": {
  "kernelspec": {
   "display_name": "Python 3 (ipykernel)",
   "language": "python",
   "name": "python3"
  },
  "language_info": {
   "codemirror_mode": {
    "name": "ipython",
    "version": 3
   },
   "file_extension": ".py",
   "mimetype": "text/x-python",
   "name": "python",
   "nbconvert_exporter": "python",
   "pygments_lexer": "ipython3",
   "version": "3.9.13"
  }
 },
 "nbformat": 4,
 "nbformat_minor": 5
}
