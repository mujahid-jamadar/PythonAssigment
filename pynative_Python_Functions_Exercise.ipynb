{
 "cells": [
  {
   "cell_type": "code",
   "execution_count": 1,
   "id": "1b8c7597",
   "metadata": {},
   "outputs": [
    {
     "name": "stdout",
     "output_type": "stream",
     "text": [
      "Name:  Mujahid\n",
      "Age:  23\n"
     ]
    }
   ],
   "source": [
    "#Exercise 1: Create a function in Python\n",
    "#Write a program to create a function that takes two arguments, name and age, and print their value.\n",
    "\n",
    "def info(name,age):\n",
    "    print(\"Name: \",name)\n",
    "    print(\"Age: \",age)\n",
    "    \n",
    "info('Mujahid',23)"
   ]
  },
  {
   "cell_type": "code",
   "execution_count": 2,
   "id": "00fa71f7",
   "metadata": {},
   "outputs": [
    {
     "name": "stdout",
     "output_type": "stream",
     "text": [
      "1\n",
      "4\n",
      "3\n",
      "5\n",
      "6\n",
      "7\n",
      "8\n",
      "89\n"
     ]
    }
   ],
   "source": [
    "# 2: Create a function with variable length of arguments\n",
    "#Write a program to create function func1() to accept a variable length of arguments and print their value.\n",
    "\n",
    "def numbers(*args):\n",
    "    for i in args:\n",
    "        print(i)\n",
    "        \n",
    "        \n",
    "numbers(1,4,3,5,6,7,8,89)        "
   ]
  },
  {
   "cell_type": "code",
   "execution_count": 5,
   "id": "ef022fa6",
   "metadata": {},
   "outputs": [
    {
     "name": "stdout",
     "output_type": "stream",
     "text": [
      "Sum  57\n",
      "Mul  540\n"
     ]
    }
   ],
   "source": [
    "#Exercise 3: Return multiple values from a function\n",
    "#Write a program to create function calculation() such that it can accept two variables and calculate addition and \n",
    "#->subtraction. Also, it must return both addition and subtraction in a single return call.\n",
    "\n",
    "def cal(a,b):\n",
    "    return a+b,a*b\n",
    "\n",
    "\n",
    "s,m=cal(12,45)\n",
    "print('Sum ',s)\n",
    "print('Mul ',m)"
   ]
  },
  {
   "cell_type": "code",
   "execution_count": 8,
   "id": "8a65e2e7",
   "metadata": {},
   "outputs": [
    {
     "name": "stdout",
     "output_type": "stream",
     "text": [
      "Name  mujahid\n",
      "Salary  12000\n",
      "Name  Ansar\n",
      "Salary  9000\n"
     ]
    }
   ],
   "source": [
    "#Exercise 4: Create a function with a default argument\n",
    "#Write a program to create a function show_employee() using the following conditions.\n",
    "\n",
    "#It should accept the employee’s name and salary and display both.\n",
    "#If the salary is missing in the function call then assign default value 9000 to salary\n",
    "\n",
    "def show_employee(name,salary=9000):\n",
    "    print('Name ',name)\n",
    "    print('Salary ',salary)\n",
    "    \n",
    "show_employee('mujahid',12000)    \n",
    "show_employee('Ansar')    "
   ]
  },
  {
   "cell_type": "code",
   "execution_count": 9,
   "id": "02dd3810",
   "metadata": {},
   "outputs": [
    {
     "data": {
      "text/plain": [
       "20"
      ]
     },
     "execution_count": 9,
     "metadata": {},
     "output_type": "execute_result"
    }
   ],
   "source": [
    "#Exercise 5: Create an inner function to calculate the addition in the following way\n",
    "\n",
    "#Create an outer function that will accept two parameters, a and b\n",
    "#Create an inner function inside an outer function that will calculate the addition of a and b\n",
    "#At last, an outer function will add 5 into addition and return it\n",
    "\n",
    "\n",
    "def outer(a,b):\n",
    "    def sum(a,b):\n",
    "        return a+b\n",
    "    \n",
    "    return sum(a,b)+5\n",
    "\n",
    "\n",
    "outer(5,10) "
   ]
  },
  {
   "cell_type": "code",
   "execution_count": 12,
   "id": "bca349a2",
   "metadata": {},
   "outputs": [
    {
     "data": {
      "text/plain": [
       "55"
      ]
     },
     "execution_count": 12,
     "metadata": {},
     "output_type": "execute_result"
    }
   ],
   "source": [
    "#Exercise 6: Create a recursive function\n",
    "#Write a program to create a recursive function to calculate the sum of numbers from 0 to 10.\n",
    "#A recursive function is a function that calls itself again and again.\n",
    "\n",
    "def recursive(n):\n",
    "    if n>0:\n",
    "        return n+recursive(n-1)\n",
    "    else:\n",
    "        return 0\n",
    "    \n",
    "recursive(10)    "
   ]
  },
  {
   "cell_type": "code",
   "execution_count": 14,
   "id": "fcf28b17",
   "metadata": {},
   "outputs": [
    {
     "name": "stdout",
     "output_type": "stream",
     "text": [
      "Mujahid 23\n",
      "Pock 21\n"
     ]
    }
   ],
   "source": [
    "#Exercise 7: Assign a different name to function and call it through the new name\n",
    "#Below is the function display_student(name, age). Assign a new name show_tudent(name, age) to it and \n",
    "#->call it using the new name.\n",
    "def display_student(name, age):\n",
    "    print(name, age)\n",
    "\n",
    "display_student(\"Mujahid\", 23)\n",
    "show_tudent=display_student\n",
    "show_tudent(\"Pock\", 21)"
   ]
  },
  {
   "cell_type": "code",
   "execution_count": 15,
   "id": "b6aa1957",
   "metadata": {},
   "outputs": [
    {
     "data": {
      "text/plain": [
       "[4, 6, 8, 10, 12, 14, 16, 18, 20, 22, 24, 26, 28, 30]"
      ]
     },
     "execution_count": 15,
     "metadata": {},
     "output_type": "execute_result"
    }
   ],
   "source": [
    "#Exercise 8: Generate a Python list of all the even numbers between 4 to 30\n",
    "\n",
    "def even(a,b):\n",
    "    l=[]\n",
    "    for i in range(a,b+1):\n",
    "        if i%2==0:\n",
    "            l.append(i)\n",
    "    return l\n",
    "\n",
    "even(4,30)\n",
    "            "
   ]
  },
  {
   "cell_type": "code",
   "execution_count": 17,
   "id": "0fa5b029",
   "metadata": {},
   "outputs": [
    {
     "data": {
      "text/plain": [
       "24"
      ]
     },
     "execution_count": 17,
     "metadata": {},
     "output_type": "execute_result"
    }
   ],
   "source": [
    "#Exercise 9: Find the largest item from a given list\n",
    "\n",
    "def largest(x):\n",
    "    l=x[0]\n",
    "    for i in range(1,len(x)):\n",
    "        if x[i]>l:\n",
    "            l=x[i]\n",
    "        \n",
    "    return l\n",
    "x = [4, 6, 8, 24, 12, 2]\n",
    "largest(x)"
   ]
  },
  {
   "cell_type": "code",
   "execution_count": null,
   "id": "e6d66d5b",
   "metadata": {},
   "outputs": [],
   "source": []
  }
 ],
 "metadata": {
  "kernelspec": {
   "display_name": "Python 3 (ipykernel)",
   "language": "python",
   "name": "python3"
  },
  "language_info": {
   "codemirror_mode": {
    "name": "ipython",
    "version": 3
   },
   "file_extension": ".py",
   "mimetype": "text/x-python",
   "name": "python",
   "nbconvert_exporter": "python",
   "pygments_lexer": "ipython3",
   "version": "3.9.13"
  }
 },
 "nbformat": 4,
 "nbformat_minor": 5
}
