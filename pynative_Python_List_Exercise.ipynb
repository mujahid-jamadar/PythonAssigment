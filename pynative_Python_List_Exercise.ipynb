{
 "cells": [
  {
   "cell_type": "code",
   "execution_count": 2,
   "id": "34d032ad",
   "metadata": {},
   "outputs": [
    {
     "data": {
      "text/plain": [
       "[500, 400, 300, 200, 100]"
      ]
     },
     "execution_count": 2,
     "metadata": {},
     "output_type": "execute_result"
    }
   ],
   "source": [
    "#Exercise 1: Reverse a list in Python\n",
    "\n",
    "#Given:\n",
    "\n",
    "l = [100, 200, 300, 400, 500]\n",
    "l.reverse()\n",
    "l"
   ]
  },
  {
   "cell_type": "code",
   "execution_count": 3,
   "id": "5d4b3ff5",
   "metadata": {},
   "outputs": [
    {
     "data": {
      "text/plain": [
       "['My', 'name', 'is', 'Mujahid']"
      ]
     },
     "execution_count": 3,
     "metadata": {},
     "output_type": "execute_result"
    }
   ],
   "source": [
    "#Exercise 2: Concatenate two lists index-wise\n",
    "#Write a program to add two lists index-wise. Create a new list that contains the 0th index item from both the list, then the 1st index item, and so on till the last element. any leftover items will get added at the end of the new list.\n",
    "\n",
    "#Given:\n",
    "\n",
    "l1 = [\"M\", \"na\", \"i\", \"Muja\"]\n",
    "l2 = [\"y\", \"me\", \"s\", \"hid\"]\n",
    "\n",
    "l=[]\n",
    "for i in range(len(l1)):\n",
    "    l.append(l1[i]+l2[i])\n",
    "    \n",
    "l    "
   ]
  },
  {
   "cell_type": "code",
   "execution_count": 5,
   "id": "59c0da7b",
   "metadata": {},
   "outputs": [
    {
     "data": {
      "text/plain": [
       "[1, 4, 9, 16, 25, 36, 49]"
      ]
     },
     "execution_count": 5,
     "metadata": {},
     "output_type": "execute_result"
    }
   ],
   "source": [
    "#Exercise 3: Turn every item of a list into its square\n",
    "#Given a list of numbers. write a program to turn every item of a list into its square.\n",
    "num= [1, 2, 3, 4, 5, 6, 7]\n",
    "l=[]\n",
    "for i in num:\n",
    "    l.append(i**2)\n",
    "\n",
    "l  "
   ]
  },
  {
   "cell_type": "code",
   "execution_count": 6,
   "id": "ce8518c9",
   "metadata": {},
   "outputs": [
    {
     "data": {
      "text/plain": [
       "['Hello Dear', 'Hello Sir', 'take Dear', 'take Sir']"
      ]
     },
     "execution_count": 6,
     "metadata": {},
     "output_type": "execute_result"
    }
   ],
   "source": [
    "#Exercise 4: Concatenate two lists in the following order\n",
    "#list1 = [\"Hello \", \"take \"]\n",
    "#list2 = [\"Dear\", \"Sir\"]\n",
    "#Expected output:\n",
    "\n",
    "#['Hello Dear', 'Hello Sir', 'take Dear', 'take Sir']\n",
    "\n",
    "l1 = [\"Hello \", \"take \"]\n",
    "l2 = [\"Dear\", \"Sir\"]\n",
    "l=[]\n",
    "for i in l1:\n",
    "    for j in l2:\n",
    "        l.append(i+j)\n",
    "        \n",
    "        \n",
    "l        "
   ]
  },
  {
   "cell_type": "code",
   "execution_count": 7,
   "id": "e643d82d",
   "metadata": {},
   "outputs": [
    {
     "name": "stdout",
     "output_type": "stream",
     "text": [
      "10 400\n",
      "20 300\n",
      "30 200\n",
      "40 100\n"
     ]
    }
   ],
   "source": [
    "#Exercise 5: Iterate both lists simultaneously\n",
    "#Given a two Python list. Write a program to iterate both lists simultaneously and display items from list1 in original order and items from list2 in reverse order.\n",
    "\n",
    "l1 = [10, 20, 30, 40]\n",
    "l2 = [100, 200, 300, 400]\n",
    "for x, y in zip(l1, l2[::-1]):\n",
    "    print(x, y)\n"
   ]
  },
  {
   "cell_type": "code",
   "execution_count": 8,
   "id": "87c3e990",
   "metadata": {},
   "outputs": [
    {
     "name": "stdout",
     "output_type": "stream",
     "text": [
      "['Mike', 'Emma', 'Kelly', 'Brad']\n"
     ]
    }
   ],
   "source": [
    "#Exercise 6: Remove empty strings from the list of strings\n",
    "l1 = [\"Mike\", \"\", \"Emma\", \"Kelly\", \"\", \"Brad\"]\n",
    "\n",
    "f = list(filter(None, l1))\n",
    "print(f)\n",
    "    "
   ]
  },
  {
   "cell_type": "code",
   "execution_count": 9,
   "id": "dcd79523",
   "metadata": {},
   "outputs": [
    {
     "data": {
      "text/plain": [
       "[10, 20, [300, 400, [5000, 6000, 7000], 500], 30, 40]"
      ]
     },
     "execution_count": 9,
     "metadata": {},
     "output_type": "execute_result"
    }
   ],
   "source": [
    "#Exercise 7: Add new item to list after a specified item\n",
    "#Write a program to add item 7000 after 6000 in the following Python List\n",
    "\n",
    "l1 = [10, 20, [300, 400, [5000, 6000], 500], 30, 40]\n",
    "l1[2][2].append(7000)\n",
    "l1"
   ]
  },
  {
   "cell_type": "code",
   "execution_count": 12,
   "id": "a1c226cf",
   "metadata": {},
   "outputs": [
    {
     "data": {
      "text/plain": [
       "['a', 'b', ['c', ['d', 'e', ['f', 'g', 'h', 'i', 'j'], 'k'], 'l'], 'm', 'n']"
      ]
     },
     "execution_count": 12,
     "metadata": {},
     "output_type": "execute_result"
    }
   ],
   "source": [
    "#Exercise 8: Extend nested list by adding the sublist\n",
    "#You have given a nested list. Write a program to extend it by adding the sublist [\"h\", \"i\", \"j\"] in such a way that it will look like the following list.\n",
    "\n",
    "\n",
    "#Given List:\n",
    "\n",
    "l1 = [\"a\", \"b\", [\"c\", [\"d\", \"e\", [\"f\", \"g\"], \"k\"], \"l\"], \"m\", \"n\"]\n",
    "\n",
    "# sub list to add\n",
    "sub = [\"h\", \"i\", \"j\"]\n",
    "#Expected Output:\n",
    "\n",
    "#['a', 'b', ['c', ['d', 'e', ['f', 'g', 'h', 'i', 'j'], 'k'], 'l'], 'm', 'n']\n",
    "\n",
    "l1[2][1][2].extend(sub)\n",
    "l1"
   ]
  },
  {
   "cell_type": "code",
   "execution_count": 15,
   "id": "0d2fce47",
   "metadata": {},
   "outputs": [
    {
     "data": {
      "text/plain": [
       "[5, 10, 15, 200, 25, 50, 20]"
      ]
     },
     "execution_count": 15,
     "metadata": {},
     "output_type": "execute_result"
    }
   ],
   "source": [
    "#Exercise 9: Replace list’s item with new value if found\n",
    "#You have given a Python list. Write a program to find value 20 in the list, and if it is present, replace it with 200. Only update the first occurrence of an item.\n",
    "\n",
    "#Given:\n",
    "\n",
    "l1 = [5, 10, 15, 20, 25, 50, 20]\n",
    "x=l1.index(20)\n",
    "x\n",
    "l1[x]=200\n",
    "l1"
   ]
  },
  {
   "cell_type": "code",
   "execution_count": 18,
   "id": "199c2e54",
   "metadata": {},
   "outputs": [
    {
     "ename": "SyntaxError",
     "evalue": "invalid syntax (2064341498.py, line 7)",
     "output_type": "error",
     "traceback": [
      "\u001b[1;36m  File \u001b[1;32m\"C:\\Users\\Mujahid\\AppData\\Local\\Temp\\ipykernel_4100\\2064341498.py\"\u001b[1;36m, line \u001b[1;32m7\u001b[0m\n\u001b[1;33m    l1.del(20)\u001b[0m\n\u001b[1;37m       ^\u001b[0m\n\u001b[1;31mSyntaxError\u001b[0m\u001b[1;31m:\u001b[0m invalid syntax\n"
     ]
    }
   ],
   "source": [
    "#Exercise 10: Remove all occurrences of a specific item from a list.\n",
    "#Given a Python list, write a program to remove all occurrences of item 20.\n",
    "\n",
    "#Given:\n",
    "\n",
    "l1 = [5, 20, 15, 20, 25, 50, 20]\n",
    "while 20 in l1:\n",
    "    l1.remove(20)\n",
    "l1"
   ]
  },
  {
   "cell_type": "code",
   "execution_count": null,
   "id": "a06bf47d",
   "metadata": {},
   "outputs": [],
   "source": []
  }
 ],
 "metadata": {
  "kernelspec": {
   "display_name": "Python 3 (ipykernel)",
   "language": "python",
   "name": "python3"
  },
  "language_info": {
   "codemirror_mode": {
    "name": "ipython",
    "version": 3
   },
   "file_extension": ".py",
   "mimetype": "text/x-python",
   "name": "python",
   "nbconvert_exporter": "python",
   "pygments_lexer": "ipython3",
   "version": "3.9.13"
  }
 },
 "nbformat": 4,
 "nbformat_minor": 5
}
