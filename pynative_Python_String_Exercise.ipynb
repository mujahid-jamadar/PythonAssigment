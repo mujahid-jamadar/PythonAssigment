{
 "cells": [
  {
   "cell_type": "code",
   "execution_count": 4,
   "id": "6e9d3ee5",
   "metadata": {},
   "outputs": [
    {
     "name": "stdout",
     "output_type": "stream",
     "text": [
      "Jms\n"
     ]
    }
   ],
   "source": [
    "#Exercise 1A: Create a string made of the first, middle and last character\n",
    "#Write a program to create a new string made of an input string’s first, middle, and last character.\n",
    "\n",
    "#Given:\n",
    "\n",
    "str1 = \"James\"\n",
    "print(str1[0]+str1[len(str1)//2]+str1[-1])"
   ]
  },
  {
   "cell_type": "code",
   "execution_count": 6,
   "id": "da224dd3",
   "metadata": {},
   "outputs": [
    {
     "name": "stdout",
     "output_type": "stream",
     "text": [
      "Enter stringJhonDipPeta\n",
      "Dip\n"
     ]
    }
   ],
   "source": [
    "#Exercise 1B: Create a string made of the middle three characters\n",
    "#Write a program to create a new string made of the middle three characters of an input string.\n",
    "\n",
    "s=input('Enter string')\n",
    "m=len(s)//2\n",
    "print(s[m-1]+s[m]+s[m+1])"
   ]
  },
  {
   "cell_type": "code",
   "execution_count": 12,
   "id": "aa323d90",
   "metadata": {},
   "outputs": [
    {
     "data": {
      "text/plain": [
       "'AuKellyt'"
      ]
     },
     "execution_count": 12,
     "metadata": {},
     "output_type": "execute_result"
    }
   ],
   "source": [
    "#Exercise 2: Append new string in the middle of a given string\n",
    "#Given two strings, s1 and s2. Write a program to create a new string s3 by appending s2 in the middle of s1.\n",
    "\n",
    "#Given:\n",
    "\n",
    "s1 = \"Ault\"\n",
    "s2 = \"Kelly\"\n",
    "#Expected Output: AuKellylt\n",
    "s3=''\n",
    "m=len(s1)//2\n",
    "for i in range(len(s1)):\n",
    "    if i==m:\n",
    "        s3+=s2\n",
    "    else:\n",
    "        s3+=s1[i]\n",
    "        \n",
    "s3        "
   ]
  },
  {
   "cell_type": "code",
   "execution_count": 13,
   "id": "67205fc0",
   "metadata": {},
   "outputs": [
    {
     "name": "stdout",
     "output_type": "stream",
     "text": [
      "AJrpan\n"
     ]
    }
   ],
   "source": [
    "#Exercise 3: Create a new string made of the first, middle, and last characters of each input string\n",
    "#Given two strings, s1 and s2, write a program to return a new string made of s1 and s2’s first, middle, and last characters.\n",
    "#Given:\n",
    "\n",
    "s1 = \"America\"\n",
    "s2 = \"Japan\"\n",
    "\n",
    "s=\"\"\n",
    "print(s1[0]+s2[0]+s1[len(s1)//2]+s2[len(s2)//2]+s1[-1]+s2[-1])"
   ]
  },
  {
   "cell_type": "code",
   "execution_count": 16,
   "id": "71eeb705",
   "metadata": {},
   "outputs": [
    {
     "name": "stdout",
     "output_type": "stream",
     "text": [
      "yaivePNT\n"
     ]
    }
   ],
   "source": [
    "#Exercise 4: Arrange string characters such that lowercase letters should come first\n",
    "#Given string contains a combination of the lower and upper case letters. Write a program to arrange the characters of a string so that all lowercase letters should come first.\n",
    "#Given:\n",
    "\n",
    "str1 = 'PyNaTive'\n",
    "l=''\n",
    "u=''\n",
    "for i in str1:\n",
    "    if i.islower():\n",
    "        l+=i\n",
    "    else:\n",
    "        u+=i\n",
    "        \n",
    "        \n",
    "print(l+u)        "
   ]
  },
  {
   "cell_type": "code",
   "execution_count": 25,
   "id": "8374590d",
   "metadata": {},
   "outputs": [
    {
     "name": "stdout",
     "output_type": "stream",
     "text": [
      "CHar  8\n",
      "Digit  3\n",
      "Symbol 1\n"
     ]
    }
   ],
   "source": [
    "#xercise 5: Count all letters, digits, and special symbols from a given string\n",
    "#iven:\n",
    "\n",
    "p=\"P@yn26ati5ve\"\n",
    "\n",
    "c=0\n",
    "n=0\n",
    "s=0\n",
    "for i in p:\n",
    "    if i.isalpha():\n",
    "        c+=1\n",
    "    elif i.isdigit():\n",
    "        n+=1\n",
    "    else:\n",
    "        s=+1\n",
    "        \n",
    "print(\"CHar \",c)\n",
    "print('Digit ',n)\n",
    "print('Symbol',s)"
   ]
  },
  {
   "cell_type": "code",
   "execution_count": 31,
   "id": "ec3e132e",
   "metadata": {},
   "outputs": [
    {
     "name": "stdout",
     "output_type": "stream",
     "text": [
      "AzbycX\n"
     ]
    }
   ],
   "source": [
    "#Exercise 6: Create a mixed String using the following rules\n",
    "#Given two strings, s1 and s2. Write a program to create a new string s3 made of the first char of s1, then the last char of s2, Next, the second char of s1 and second last char of s2, and so on. Any leftover chars go at the end of the result.\n",
    "#Given:\n",
    "s1 = \"Abc\"\n",
    "s2 = \"Xyz\"\n",
    "p = ''\n",
    "l = 0\n",
    "r = len(s2) - 1  \n",
    "\n",
    "while l <= r:\n",
    "    p += s1[l] + s2[r]\n",
    "    l += 1\n",
    "    r -= 1\n",
    "\n",
    "\n",
    "if l < len(s1):\n",
    "    p += s1[l:]\n",
    "\n",
    "\n",
    "if r >= 0:\n",
    "    p += s2[:r+1]\n",
    "\n",
    "print(p)\n",
    " \n",
    "    "
   ]
  },
  {
   "cell_type": "code",
   "execution_count": 41,
   "id": "412d4f95",
   "metadata": {},
   "outputs": [
    {
     "name": "stdout",
     "output_type": "stream",
     "text": [
      "True\n",
      "False\n"
     ]
    }
   ],
   "source": [
    "#Exercise 7: String characters balance Test\n",
    "#Write a program to check if two strings are balanced. For example, strings s1 and s2 are balanced if \n",
    "#all the characters in the s1 are present in s2. The character’s position doesn’t matter.\n",
    "\n",
    "\n",
    "def check(s1,s2):\n",
    "    flag=True\n",
    "    for i in s1:\n",
    "        if i in s2:\n",
    "            continue\n",
    "        else:\n",
    "            flag=False\n",
    "            break\n",
    "            \n",
    "    return flag        \n",
    "\n",
    "print(check('Yn','PYnative'))        \n",
    "print(check('Ynf','PYnative')) "
   ]
  },
  {
   "cell_type": "code",
   "execution_count": 44,
   "id": "78ea0d3e",
   "metadata": {},
   "outputs": [
    {
     "data": {
      "text/plain": [
       "2"
      ]
     },
     "execution_count": 44,
     "metadata": {},
     "output_type": "execute_result"
    }
   ],
   "source": [
    "#Exercise 8: Find all occurrences of a substring in a given string by ignoring the case\n",
    "#Write a program to find all occurrences of “USA” in a given string ignoring the case.\n",
    "#Given:\n",
    "\n",
    "str1 = \"Welcome to USA. usa awesome, isn't it?\"\n",
    "\n",
    "c=0\n",
    "str2=str1.upper()\n",
    "str2.count('USA')"
   ]
  },
  {
   "cell_type": "code",
   "execution_count": 46,
   "id": "135e0faa",
   "metadata": {},
   "outputs": [
    {
     "name": "stdout",
     "output_type": "stream",
     "text": [
      "Average  6.333333333333333\n"
     ]
    }
   ],
   "source": [
    "#Exercise 9: Calculate the sum and average of the digits present in a string\n",
    "#Given a string s1, write a program to return the sum and average of the digits that appear in the string, \n",
    "    #ignoring all other characters.\n",
    "    \n",
    "str1 = \"PYnative29@#8496\"\n",
    "sum=0\n",
    "c=0\n",
    "for i in str1:\n",
    "    if i.isdigit():\n",
    "        sum+=int(i)\n",
    "        c+=1\n",
    "        \n",
    "        \n",
    "print('Average ',sum/c)        "
   ]
  },
  {
   "cell_type": "code",
   "execution_count": 56,
   "id": "6edebefa",
   "metadata": {},
   "outputs": [
    {
     "data": {
      "text/plain": [
       "{'A': 1, 'p': 2, 'l': 1, 'e': 1}"
      ]
     },
     "execution_count": 56,
     "metadata": {},
     "output_type": "execute_result"
    }
   ],
   "source": [
    "#Exercise 10: Write a program to count occurrences of all characters within a string\n",
    "#Given:\n",
    "\n",
    "str1 = \"Apple\"\n",
    "#Expected Outcome:{'A': 1, 'p': 2, 'l': 1, 'e': 1}\n",
    "s=dict()\n",
    "for i in str1:\n",
    "    c=str1.count(i)\n",
    "    s[i]=c\n",
    "\n",
    "s    \n"
   ]
  },
  {
   "cell_type": "code",
   "execution_count": 58,
   "id": "bc1a6f58",
   "metadata": {},
   "outputs": [
    {
     "data": {
      "text/plain": [
       "'evitanYP'"
      ]
     },
     "execution_count": 58,
     "metadata": {},
     "output_type": "execute_result"
    }
   ],
   "source": [
    "#Exercise 11: Reverse a given string\n",
    "#Given:\n",
    "\n",
    "str1 = \"PYnative\"\n",
    "rev=str1[::-1]\n",
    "rev"
   ]
  },
  {
   "cell_type": "code",
   "execution_count": 59,
   "id": "7c3b8c69",
   "metadata": {},
   "outputs": [
    {
     "data": {
      "text/plain": [
       "43"
      ]
     },
     "execution_count": 59,
     "metadata": {},
     "output_type": "execute_result"
    }
   ],
   "source": [
    "#Exercise 12: Find the last position of a given substring\n",
    "#Write a program to find the last position of a substring “Emma” in a given string.\n",
    "\n",
    "#Given:\n",
    "\n",
    "str1 = \"Emma is a data scientist who knows Python. Emma works at google.\"\n",
    "#Expected Output:Last occurrence of Emma starts at index 43\n",
    "\n",
    "str1.rfind('Emma')"
   ]
  },
  {
   "cell_type": "code",
   "execution_count": 63,
   "id": "741bfdc6",
   "metadata": {},
   "outputs": [
    {
     "name": "stdout",
     "output_type": "stream",
     "text": [
      "Emma\n",
      "is\n",
      "a\n",
      "data\n",
      "scientist\n"
     ]
    }
   ],
   "source": [
    "#Exercise 13: Split a string on hyphens\n",
    "#Write a program to split a given string on hyphens and display each substring.\n",
    "#Given:\n",
    "\n",
    "str1 =\"Emma-is-a-data-scientist\"\n",
    "l=str1.split('-')\n",
    "for i in l:\n",
    "    print(i)"
   ]
  },
  {
   "cell_type": "code",
   "execution_count": 69,
   "id": "2175e2a4",
   "metadata": {},
   "outputs": [
    {
     "data": {
      "text/plain": [
       "['Emma', 'Jon', 'Kelly', 'Eric']"
      ]
     },
     "execution_count": 69,
     "metadata": {},
     "output_type": "execute_result"
    }
   ],
   "source": [
    "#Exercise 14: Remove empty strings from a list of strings\n",
    "#Given:\n",
    "\n",
    "str_list = [\"Emma\", \"Jon\", \"\", \"Kelly\", None, \"Eric\", \"\"]\n",
    "#Expected Output:\n",
    "\n",
    "#Original list of sting ['Emma', 'Jon', '', 'Kelly', None, 'Eric', '']\n",
    "\n",
    "#After removing empty strings ['Emma', 'Jon', 'Kelly', 'Eric']\n",
    "\n",
    "new= list(filter(None, str_list))\n",
    "new"
   ]
  },
  {
   "cell_type": "code",
   "execution_count": 73,
   "id": "5dbb36d6",
   "metadata": {},
   "outputs": [
    {
     "data": {
      "text/plain": [
       "'Jon is developer  musician'"
      ]
     },
     "execution_count": 73,
     "metadata": {},
     "output_type": "execute_result"
    }
   ],
   "source": [
    "#Exercise 15: Remove special symbols / punctuation from a string\n",
    "#Given:\n",
    "\n",
    "str1 = \"/*Jon is @developer & musician\"\n",
    "#Expected Output: \"Jon is developer musician\"\n",
    "r=\"\"\n",
    "for i in str1:\n",
    "    if i==\" \":\n",
    "        r=r+i\n",
    "    elif i.isalpha():\n",
    "        r=r+i\n",
    "    else:\n",
    "        continue\n",
    "r\n"
   ]
  },
  {
   "cell_type": "code",
   "execution_count": 75,
   "id": "6c4b4b52",
   "metadata": {},
   "outputs": [
    {
     "data": {
      "text/plain": [
       "'2510'"
      ]
     },
     "execution_count": 75,
     "metadata": {},
     "output_type": "execute_result"
    }
   ],
   "source": [
    "#Exercise 16: Removal all characters from a string except integers\n",
    "#Given:\n",
    "\n",
    "str1 = 'I am 25 years and 10 months old'\n",
    "r=''\n",
    "for i in str1:\n",
    "    if i.isdigit():\n",
    "        r=r+i\n",
    "        \n",
    "r        "
   ]
  },
  {
   "cell_type": "code",
   "execution_count": 86,
   "id": "7e9d58ea",
   "metadata": {},
   "outputs": [
    {
     "name": "stdout",
     "output_type": "stream",
     "text": [
      "Emma25\n",
      "scientist50\n"
     ]
    }
   ],
   "source": [
    "#Exercise 17: Find words with both alphabets and numbers\n",
    "#Write a program to find words with both alphabets and numbers from an input string.\n",
    "#Given:\n",
    "str1 = \"Emma25 is Data scientist50 and AI Expert\"\n",
    "l=str1.split()\n",
    "for i in l:\n",
    "    if i.isalpha() or i.isdigit():\n",
    "        continue\n",
    "    else:\n",
    "        print(i)"
   ]
  },
  {
   "cell_type": "code",
   "execution_count": 88,
   "id": "f86e87ef",
   "metadata": {},
   "outputs": [
    {
     "name": "stdout",
     "output_type": "stream",
     "text": [
      "The strings after replacement :  ##Jon is #developer # musician##\n"
     ]
    }
   ],
   "source": [
    "#Exercise 18: Replace each special symbol with # in the following string\n",
    "#Given:\n",
    "\n",
    "str1 = '/*Jon is @developer & musician!!'\n",
    "#Expected Output: ##Jon is #developer # musician##\n",
    "\n",
    "import string\n",
    "\n",
    "for i in string.punctuation:\n",
    "    str1 = str1.replace(i,'#')\n",
    "\n",
    "print(\"The strings after replacement : \", str1)"
   ]
  },
  {
   "cell_type": "code",
   "execution_count": null,
   "id": "9f8d47bf",
   "metadata": {},
   "outputs": [],
   "source": []
  }
 ],
 "metadata": {
  "kernelspec": {
   "display_name": "Python 3 (ipykernel)",
   "language": "python",
   "name": "python3"
  },
  "language_info": {
   "codemirror_mode": {
    "name": "ipython",
    "version": 3
   },
   "file_extension": ".py",
   "mimetype": "text/x-python",
   "name": "python",
   "nbconvert_exporter": "python",
   "pygments_lexer": "ipython3",
   "version": "3.9.13"
  }
 },
 "nbformat": 4,
 "nbformat_minor": 5
}
