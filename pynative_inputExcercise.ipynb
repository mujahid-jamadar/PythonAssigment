{
 "cells": [
  {
   "cell_type": "code",
   "execution_count": 4,
   "id": "4b583a73",
   "metadata": {},
   "outputs": [
    {
     "name": "stdout",
     "output_type": "stream",
     "text": [
      "Enter the number5\n",
      "Enter the number6\n",
      "30\n"
     ]
    }
   ],
   "source": [
    "#Exercise 1: Accept numbers from a user\n",
    "#Write a program to accept two numbers from the user and calculate multiplication\n",
    "a=int(input(\"Enter the number\"))\n",
    "b=int(input(\"Enter the number\"))\n",
    "print(a*b)"
   ]
  },
  {
   "cell_type": "code",
   "execution_count": 6,
   "id": "5e46d230",
   "metadata": {},
   "outputs": [
    {
     "name": "stdout",
     "output_type": "stream",
     "text": [
      "Name**Is**James\n"
     ]
    }
   ],
   "source": [
    "#Exercise 2: Display three string “Name”, “Is”, “James” as “Name**Is**James”\n",
    "#Use the print() function to format the given words in the mentioned format. Display the ** separator between each string\n",
    "\n",
    "print(\"Name\",\"Is\",\"James\",sep='**')"
   ]
  },
  {
   "cell_type": "code",
   "execution_count": 10,
   "id": "b6126c72",
   "metadata": {},
   "outputs": [
    {
     "name": "stdout",
     "output_type": "stream",
     "text": [
      "10\n"
     ]
    }
   ],
   "source": [
    "# 3: Convert Decimal number to octal using print() output formatting\n",
    "\n",
    "print('%o' % 8)"
   ]
  },
  {
   "cell_type": "code",
   "execution_count": 15,
   "id": "830beb08",
   "metadata": {},
   "outputs": [
    {
     "name": "stdout",
     "output_type": "stream",
     "text": [
      "34.57\n"
     ]
    }
   ],
   "source": [
    "#Exercise 4: Display float number with 2 decimal places using print()\n",
    "\n",
    "num=34.5667\n",
    "print('%.2f' % num)"
   ]
  },
  {
   "cell_type": "code",
   "execution_count": 18,
   "id": "af72a664",
   "metadata": {},
   "outputs": [
    {
     "name": "stdout",
     "output_type": "stream",
     "text": [
      "Enter the number[12.20,11.77,45.90,55.50]\n"
     ]
    },
    {
     "data": {
      "text/plain": [
       "[12.2, 11.77, 45.9, 55.5]"
      ]
     },
     "execution_count": 18,
     "metadata": {},
     "output_type": "execute_result"
    }
   ],
   "source": [
    "#Exercise 5: Accept a list of 5 float numbers as an input from the user\n",
    "a=[]\n",
    "a=eval(input(\"Enter the number\"))\n",
    "a"
   ]
  },
  {
   "cell_type": "code",
   "execution_count": 21,
   "id": "548cf1ad",
   "metadata": {},
   "outputs": [
    {
     "name": "stdout",
     "output_type": "stream",
     "text": [
      "Enter three stringMujahid Vazeer Jamadar\n",
      "Firstname: Mujahid\n",
      "Midle: Vazeer\n",
      "Lastname: Jamadar\n"
     ]
    }
   ],
   "source": [
    "#Exercise 7: Accept any three string from one input() call\n",
    "#Write a program to take three names as input from a user in the single input() function call.\n",
    "fn, mn, ln = input(\"Enter three string\").split()\n",
    "print('Firstname:', fn)\n",
    "print('Midle:', mn)\n",
    "print('Lastname:', ln)"
   ]
  },
  {
   "cell_type": "code",
   "execution_count": 29,
   "id": "470b53e9",
   "metadata": {},
   "outputs": [
    {
     "name": "stdout",
     "output_type": "stream",
     "text": [
      "My name is Mujahid and age is 23\n"
     ]
    }
   ],
   "source": [
    "#Exercise 8: Format variables using a string.format() method.\n",
    "#Write a program to use string.format() method to format the following three variables as per the expected output\n",
    "\n",
    "n = 'Mujahid'\n",
    "a = 23\n",
    "print('My name is {0} and age is {1}'.format(n, a))\n"
   ]
  },
  {
   "cell_type": "code",
   "execution_count": 25,
   "id": "e965378f",
   "metadata": {},
   "outputs": [
    {
     "name": "stdout",
     "output_type": "stream",
     "text": [
      "Help on built-in function print in module builtins:\n",
      "\n",
      "print(...)\n",
      "    print(value, ..., sep=' ', end='\\n', file=sys.stdout, flush=False)\n",
      "    \n",
      "    Prints the values to a stream, or to sys.stdout by default.\n",
      "    Optional keyword arguments:\n",
      "    file:  a file-like object (stream); defaults to the current sys.stdout.\n",
      "    sep:   string inserted between values, default a space.\n",
      "    end:   string appended after the last value, default a newline.\n",
      "    flush: whether to forcibly flush the stream.\n",
      "\n"
     ]
    }
   ],
   "source": [
    "help(print)"
   ]
  },
  {
   "cell_type": "code",
   "execution_count": null,
   "id": "c6148670",
   "metadata": {},
   "outputs": [],
   "source": []
  }
 ],
 "metadata": {
  "kernelspec": {
   "display_name": "Python 3 (ipykernel)",
   "language": "python",
   "name": "python3"
  },
  "language_info": {
   "codemirror_mode": {
    "name": "ipython",
    "version": 3
   },
   "file_extension": ".py",
   "mimetype": "text/x-python",
   "name": "python",
   "nbconvert_exporter": "python",
   "pygments_lexer": "ipython3",
   "version": "3.9.13"
  }
 },
 "nbformat": 4,
 "nbformat_minor": 5
}
